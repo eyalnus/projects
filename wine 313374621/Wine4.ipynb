{
 "cells": [
  {
   "cell_type": "code",
   "execution_count": 1580,
   "metadata": {},
   "outputs": [],
   "source": [
    "import numpy as np\n",
    "import pandas as pd\n",
    "import matplotlib.pyplot as plt\n",
    "import seaborn as sns\n",
    "%matplotlib inline"
   ]
  },
  {
   "cell_type": "markdown",
   "metadata": {},
   "source": [
    "**Intro**"
   ]
  },
  {
   "cell_type": "markdown",
   "metadata": {},
   "source": [
    " **Reading of the csv file and converting to a Data Frame**\n"
   ]
  },
  {
   "cell_type": "code",
   "execution_count": 1581,
   "metadata": {},
   "outputs": [
    {
     "data": {
      "text/html": [
       "<div>\n",
       "<style scoped>\n",
       "    .dataframe tbody tr th:only-of-type {\n",
       "        vertical-align: middle;\n",
       "    }\n",
       "\n",
       "    .dataframe tbody tr th {\n",
       "        vertical-align: top;\n",
       "    }\n",
       "\n",
       "    .dataframe thead th {\n",
       "        text-align: right;\n",
       "    }\n",
       "</style>\n",
       "<table border=\"1\" class=\"dataframe\">\n",
       "  <thead>\n",
       "    <tr style=\"text-align: right;\">\n",
       "      <th></th>\n",
       "      <th>sample</th>\n",
       "      <th>fixed acidity</th>\n",
       "      <th>volatile acidity</th>\n",
       "      <th>citric acid</th>\n",
       "      <th>residual sugar</th>\n",
       "      <th>chlorides</th>\n",
       "      <th>free sulfur dioxide</th>\n",
       "      <th>total sulfur dioxide</th>\n",
       "      <th>density</th>\n",
       "      <th>pH</th>\n",
       "      <th>sulphates</th>\n",
       "      <th>alcohol</th>\n",
       "      <th>quality</th>\n",
       "      <th>kind</th>\n",
       "    </tr>\n",
       "  </thead>\n",
       "  <tbody>\n",
       "    <tr>\n",
       "      <th>0</th>\n",
       "      <td>0</td>\n",
       "      <td>7.0</td>\n",
       "      <td>0.27</td>\n",
       "      <td>2.16</td>\n",
       "      <td>20.7</td>\n",
       "      <td>0.045</td>\n",
       "      <td>167.0</td>\n",
       "      <td>170.0</td>\n",
       "      <td>very high</td>\n",
       "      <td>3.00</td>\n",
       "      <td>0.45</td>\n",
       "      <td>8.8</td>\n",
       "      <td>6</td>\n",
       "      <td>white</td>\n",
       "    </tr>\n",
       "    <tr>\n",
       "      <th>1</th>\n",
       "      <td>1</td>\n",
       "      <td>6.3</td>\n",
       "      <td>0.30</td>\n",
       "      <td>2.04</td>\n",
       "      <td>1.6</td>\n",
       "      <td>0.049</td>\n",
       "      <td>136.0</td>\n",
       "      <td>132.0</td>\n",
       "      <td>medium</td>\n",
       "      <td>3.30</td>\n",
       "      <td>0.49</td>\n",
       "      <td>9.5</td>\n",
       "      <td>6</td>\n",
       "      <td>white</td>\n",
       "    </tr>\n",
       "    <tr>\n",
       "      <th>2</th>\n",
       "      <td>2</td>\n",
       "      <td>8.1</td>\n",
       "      <td>0.28</td>\n",
       "      <td>2.40</td>\n",
       "      <td>6.9</td>\n",
       "      <td>0.050</td>\n",
       "      <td>148.0</td>\n",
       "      <td>97.0</td>\n",
       "      <td>high</td>\n",
       "      <td>3.26</td>\n",
       "      <td>0.44</td>\n",
       "      <td>10.1</td>\n",
       "      <td>6</td>\n",
       "      <td>white</td>\n",
       "    </tr>\n",
       "    <tr>\n",
       "      <th>3</th>\n",
       "      <td>3</td>\n",
       "      <td>7.2</td>\n",
       "      <td>0.23</td>\n",
       "      <td>1.92</td>\n",
       "      <td>8.5</td>\n",
       "      <td>0.058</td>\n",
       "      <td>165.0</td>\n",
       "      <td>186.0</td>\n",
       "      <td>high</td>\n",
       "      <td>3.19</td>\n",
       "      <td>0.40</td>\n",
       "      <td>9.9</td>\n",
       "      <td>6</td>\n",
       "      <td>white</td>\n",
       "    </tr>\n",
       "    <tr>\n",
       "      <th>4</th>\n",
       "      <td>4</td>\n",
       "      <td>7.2</td>\n",
       "      <td>0.23</td>\n",
       "      <td>1.92</td>\n",
       "      <td>8.5</td>\n",
       "      <td>0.058</td>\n",
       "      <td>169.0</td>\n",
       "      <td>186.0</td>\n",
       "      <td>high</td>\n",
       "      <td>3.19</td>\n",
       "      <td>0.40</td>\n",
       "      <td>9.9</td>\n",
       "      <td>6</td>\n",
       "      <td>white</td>\n",
       "    </tr>\n",
       "  </tbody>\n",
       "</table>\n",
       "</div>"
      ],
      "text/plain": [
       "   sample  fixed acidity  volatile acidity  citric acid  residual sugar  \\\n",
       "0       0            7.0              0.27         2.16            20.7   \n",
       "1       1            6.3              0.30         2.04             1.6   \n",
       "2       2            8.1              0.28         2.40             6.9   \n",
       "3       3            7.2              0.23         1.92             8.5   \n",
       "4       4            7.2              0.23         1.92             8.5   \n",
       "\n",
       "   chlorides  free sulfur dioxide  total sulfur dioxide    density    pH  \\\n",
       "0      0.045                167.0                 170.0  very high  3.00   \n",
       "1      0.049                136.0                 132.0     medium  3.30   \n",
       "2      0.050                148.0                  97.0       high  3.26   \n",
       "3      0.058                165.0                 186.0       high  3.19   \n",
       "4      0.058                169.0                 186.0       high  3.19   \n",
       "\n",
       "   sulphates  alcohol  quality   kind  \n",
       "0       0.45      8.8        6  white  \n",
       "1       0.49      9.5        6  white  \n",
       "2       0.44     10.1        6  white  \n",
       "3       0.40      9.9        6  white  \n",
       "4       0.40      9.9        6  white  "
      ]
     },
     "execution_count": 1581,
     "metadata": {},
     "output_type": "execute_result"
    }
   ],
   "source": [
    "df = pd.read_csv('wine4.csv')\n",
    "df.head()"
   ]
  },
  {
   "cell_type": "code",
   "execution_count": 1582,
   "metadata": {},
   "outputs": [],
   "source": [
    "df.drop('sample',inplace=True,axis = 1)"
   ]
  },
  {
   "cell_type": "markdown",
   "metadata": {},
   "source": [
    "**Checking the number of instances and the total number of features present**"
   ]
  },
  {
   "cell_type": "code",
   "execution_count": 1583,
   "metadata": {},
   "outputs": [
    {
     "name": "stdout",
     "output_type": "stream",
     "text": [
      "The total number of instances present in the dataset is 6497\n",
      "The total number of features present in the dataset is 13\n"
     ]
    }
   ],
   "source": [
    "print('The total number of instances present in the dataset is', len(df))\n",
    "print('The total number of features present in the dataset is', len(df.columns))"
   ]
  },
  {
   "cell_type": "code",
   "execution_count": 1584,
   "metadata": {},
   "outputs": [],
   "source": [
    "df_random = df[:]"
   ]
  },
  {
   "cell_type": "markdown",
   "metadata": {},
   "source": [
    "**Data Preprocessing**"
   ]
  },
  {
   "cell_type": "code",
   "execution_count": 1585,
   "metadata": {},
   "outputs": [
    {
     "data": {
      "text/html": [
       "<div>\n",
       "<style scoped>\n",
       "    .dataframe tbody tr th:only-of-type {\n",
       "        vertical-align: middle;\n",
       "    }\n",
       "\n",
       "    .dataframe tbody tr th {\n",
       "        vertical-align: top;\n",
       "    }\n",
       "\n",
       "    .dataframe thead th {\n",
       "        text-align: right;\n",
       "    }\n",
       "</style>\n",
       "<table border=\"1\" class=\"dataframe\">\n",
       "  <thead>\n",
       "    <tr style=\"text-align: right;\">\n",
       "      <th></th>\n",
       "      <th>FA</th>\n",
       "      <th>VA</th>\n",
       "      <th>CA</th>\n",
       "      <th>RS</th>\n",
       "      <th>chlorides</th>\n",
       "      <th>FSD</th>\n",
       "      <th>TSD</th>\n",
       "      <th>density</th>\n",
       "      <th>pH</th>\n",
       "      <th>sulphates</th>\n",
       "      <th>alcohol</th>\n",
       "      <th>quality</th>\n",
       "      <th>kind</th>\n",
       "    </tr>\n",
       "  </thead>\n",
       "  <tbody>\n",
       "    <tr>\n",
       "      <th>0</th>\n",
       "      <td>7.0</td>\n",
       "      <td>0.27</td>\n",
       "      <td>2.16</td>\n",
       "      <td>20.7</td>\n",
       "      <td>0.045</td>\n",
       "      <td>167.0</td>\n",
       "      <td>170.0</td>\n",
       "      <td>very high</td>\n",
       "      <td>3.00</td>\n",
       "      <td>0.45</td>\n",
       "      <td>8.8</td>\n",
       "      <td>6</td>\n",
       "      <td>white</td>\n",
       "    </tr>\n",
       "    <tr>\n",
       "      <th>1</th>\n",
       "      <td>6.3</td>\n",
       "      <td>0.30</td>\n",
       "      <td>2.04</td>\n",
       "      <td>1.6</td>\n",
       "      <td>0.049</td>\n",
       "      <td>136.0</td>\n",
       "      <td>132.0</td>\n",
       "      <td>medium</td>\n",
       "      <td>3.30</td>\n",
       "      <td>0.49</td>\n",
       "      <td>9.5</td>\n",
       "      <td>6</td>\n",
       "      <td>white</td>\n",
       "    </tr>\n",
       "    <tr>\n",
       "      <th>2</th>\n",
       "      <td>8.1</td>\n",
       "      <td>0.28</td>\n",
       "      <td>2.40</td>\n",
       "      <td>6.9</td>\n",
       "      <td>0.050</td>\n",
       "      <td>148.0</td>\n",
       "      <td>97.0</td>\n",
       "      <td>high</td>\n",
       "      <td>3.26</td>\n",
       "      <td>0.44</td>\n",
       "      <td>10.1</td>\n",
       "      <td>6</td>\n",
       "      <td>white</td>\n",
       "    </tr>\n",
       "    <tr>\n",
       "      <th>3</th>\n",
       "      <td>7.2</td>\n",
       "      <td>0.23</td>\n",
       "      <td>1.92</td>\n",
       "      <td>8.5</td>\n",
       "      <td>0.058</td>\n",
       "      <td>165.0</td>\n",
       "      <td>186.0</td>\n",
       "      <td>high</td>\n",
       "      <td>3.19</td>\n",
       "      <td>0.40</td>\n",
       "      <td>9.9</td>\n",
       "      <td>6</td>\n",
       "      <td>white</td>\n",
       "    </tr>\n",
       "    <tr>\n",
       "      <th>4</th>\n",
       "      <td>7.2</td>\n",
       "      <td>0.23</td>\n",
       "      <td>1.92</td>\n",
       "      <td>8.5</td>\n",
       "      <td>0.058</td>\n",
       "      <td>169.0</td>\n",
       "      <td>186.0</td>\n",
       "      <td>high</td>\n",
       "      <td>3.19</td>\n",
       "      <td>0.40</td>\n",
       "      <td>9.9</td>\n",
       "      <td>6</td>\n",
       "      <td>white</td>\n",
       "    </tr>\n",
       "  </tbody>\n",
       "</table>\n",
       "</div>"
      ],
      "text/plain": [
       "    FA    VA    CA    RS  chlorides    FSD    TSD    density    pH  sulphates  \\\n",
       "0  7.0  0.27  2.16  20.7      0.045  167.0  170.0  very high  3.00       0.45   \n",
       "1  6.3  0.30  2.04   1.6      0.049  136.0  132.0     medium  3.30       0.49   \n",
       "2  8.1  0.28  2.40   6.9      0.050  148.0   97.0       high  3.26       0.44   \n",
       "3  7.2  0.23  1.92   8.5      0.058  165.0  186.0       high  3.19       0.40   \n",
       "4  7.2  0.23  1.92   8.5      0.058  169.0  186.0       high  3.19       0.40   \n",
       "\n",
       "   alcohol  quality   kind  \n",
       "0      8.8        6  white  \n",
       "1      9.5        6  white  \n",
       "2     10.1        6  white  \n",
       "3      9.9        6  white  \n",
       "4      9.9        6  white  "
      ]
     },
     "execution_count": 1585,
     "metadata": {},
     "output_type": "execute_result"
    }
   ],
   "source": [
    "#Renaming the columns for better readability\n",
    "\n",
    "df.rename(columns = {'fixed acidity':'FA','volatile acidity':'VA','citric acid':'CA','residual sugar':'RS','free sulfur dioxide':'FSD','total sulfur dioxide':'TSD'},inplace = True)\n",
    "df.head()"
   ]
  },
  {
   "cell_type": "markdown",
   "metadata": {},
   "source": [
    "**Initial Data Analysis**"
   ]
  },
  {
   "cell_type": "code",
   "execution_count": 1586,
   "metadata": {},
   "outputs": [
    {
     "data": {
      "text/plain": [
       "FA           194\n",
       "VA             0\n",
       "CA           457\n",
       "RS            72\n",
       "chlorides      0\n",
       "FSD          372\n",
       "TSD          727\n",
       "density      192\n",
       "pH             0\n",
       "sulphates      0\n",
       "alcohol       81\n",
       "quality        0\n",
       "kind           0\n",
       "dtype: int64"
      ]
     },
     "execution_count": 1586,
     "metadata": {},
     "output_type": "execute_result"
    }
   ],
   "source": [
    "#checking for the null values\n",
    "\n",
    "df.isna().sum()\n"
   ]
  },
  {
   "cell_type": "code",
   "execution_count": 1587,
   "metadata": {},
   "outputs": [
    {
     "name": "stdout",
     "output_type": "stream",
     "text": [
      "<class 'pandas.core.frame.DataFrame'>\n",
      "RangeIndex: 6497 entries, 0 to 6496\n",
      "Data columns (total 13 columns):\n",
      " #   Column     Non-Null Count  Dtype  \n",
      "---  ------     --------------  -----  \n",
      " 0   FA         6303 non-null   float64\n",
      " 1   VA         6497 non-null   float64\n",
      " 2   CA         6040 non-null   float64\n",
      " 3   RS         6425 non-null   float64\n",
      " 4   chlorides  6497 non-null   float64\n",
      " 5   FSD        6125 non-null   float64\n",
      " 6   TSD        5770 non-null   float64\n",
      " 7   density    6305 non-null   object \n",
      " 8   pH         6497 non-null   float64\n",
      " 9   sulphates  6497 non-null   float64\n",
      " 10  alcohol    6416 non-null   float64\n",
      " 11  quality    6497 non-null   int64  \n",
      " 12  kind       6497 non-null   object \n",
      "dtypes: float64(10), int64(1), object(2)\n",
      "memory usage: 609.2+ KB\n"
     ]
    }
   ],
   "source": [
    "#checking the basic information of the data set. we are checking out the data type of each columns\n",
    "\n",
    "df.info()"
   ]
  },
  {
   "cell_type": "markdown",
   "metadata": {},
   "source": [
    "We can see that every attribute is numerical in nature and every attribute has the float type except for the quality feature which is of integer type and density, kind ar categorical attributes\n"
   ]
  },
  {
   "cell_type": "code",
   "execution_count": 1588,
   "metadata": {},
   "outputs": [
    {
     "data": {
      "text/html": [
       "<div>\n",
       "<style scoped>\n",
       "    .dataframe tbody tr th:only-of-type {\n",
       "        vertical-align: middle;\n",
       "    }\n",
       "\n",
       "    .dataframe tbody tr th {\n",
       "        vertical-align: top;\n",
       "    }\n",
       "\n",
       "    .dataframe thead th {\n",
       "        text-align: right;\n",
       "    }\n",
       "</style>\n",
       "<table border=\"1\" class=\"dataframe\">\n",
       "  <thead>\n",
       "    <tr style=\"text-align: right;\">\n",
       "      <th></th>\n",
       "      <th>FA</th>\n",
       "      <th>VA</th>\n",
       "      <th>CA</th>\n",
       "      <th>RS</th>\n",
       "      <th>chlorides</th>\n",
       "      <th>FSD</th>\n",
       "      <th>TSD</th>\n",
       "      <th>pH</th>\n",
       "      <th>sulphates</th>\n",
       "      <th>alcohol</th>\n",
       "      <th>quality</th>\n",
       "    </tr>\n",
       "  </thead>\n",
       "  <tbody>\n",
       "    <tr>\n",
       "      <th>count</th>\n",
       "      <td>6303.000000</td>\n",
       "      <td>6497.00000</td>\n",
       "      <td>6040.000000</td>\n",
       "      <td>6425.000000</td>\n",
       "      <td>6497.000000</td>\n",
       "      <td>6125.000000</td>\n",
       "      <td>5770.000000</td>\n",
       "      <td>6497.000000</td>\n",
       "      <td>6497.000000</td>\n",
       "      <td>6416.000000</td>\n",
       "      <td>6497.000000</td>\n",
       "    </tr>\n",
       "    <tr>\n",
       "      <th>mean</th>\n",
       "      <td>7.183104</td>\n",
       "      <td>0.37178</td>\n",
       "      <td>1.863810</td>\n",
       "      <td>5.443837</td>\n",
       "      <td>0.056034</td>\n",
       "      <td>146.834122</td>\n",
       "      <td>115.802080</td>\n",
       "      <td>3.218501</td>\n",
       "      <td>0.531268</td>\n",
       "      <td>10.487661</td>\n",
       "      <td>5.818378</td>\n",
       "    </tr>\n",
       "    <tr>\n",
       "      <th>std</th>\n",
       "      <td>1.378804</td>\n",
       "      <td>0.50821</td>\n",
       "      <td>0.889848</td>\n",
       "      <td>4.763496</td>\n",
       "      <td>0.035034</td>\n",
       "      <td>25.724505</td>\n",
       "      <td>56.473495</td>\n",
       "      <td>0.160787</td>\n",
       "      <td>0.148806</td>\n",
       "      <td>1.191010</td>\n",
       "      <td>0.873255</td>\n",
       "    </tr>\n",
       "    <tr>\n",
       "      <th>min</th>\n",
       "      <td>0.110000</td>\n",
       "      <td>0.08000</td>\n",
       "      <td>0.000000</td>\n",
       "      <td>0.600000</td>\n",
       "      <td>0.009000</td>\n",
       "      <td>59.000000</td>\n",
       "      <td>6.000000</td>\n",
       "      <td>2.720000</td>\n",
       "      <td>0.220000</td>\n",
       "      <td>8.000000</td>\n",
       "      <td>3.000000</td>\n",
       "    </tr>\n",
       "    <tr>\n",
       "      <th>25%</th>\n",
       "      <td>6.400000</td>\n",
       "      <td>0.23000</td>\n",
       "      <td>1.330000</td>\n",
       "      <td>1.800000</td>\n",
       "      <td>0.038000</td>\n",
       "      <td>129.000000</td>\n",
       "      <td>77.000000</td>\n",
       "      <td>3.110000</td>\n",
       "      <td>0.430000</td>\n",
       "      <td>9.500000</td>\n",
       "      <td>5.000000</td>\n",
       "    </tr>\n",
       "    <tr>\n",
       "      <th>50%</th>\n",
       "      <td>7.000000</td>\n",
       "      <td>0.29000</td>\n",
       "      <td>1.860000</td>\n",
       "      <td>3.000000</td>\n",
       "      <td>0.047000</td>\n",
       "      <td>147.000000</td>\n",
       "      <td>118.000000</td>\n",
       "      <td>3.210000</td>\n",
       "      <td>0.510000</td>\n",
       "      <td>10.300000</td>\n",
       "      <td>6.000000</td>\n",
       "    </tr>\n",
       "    <tr>\n",
       "      <th>75%</th>\n",
       "      <td>7.700000</td>\n",
       "      <td>0.41000</td>\n",
       "      <td>2.380000</td>\n",
       "      <td>8.100000</td>\n",
       "      <td>0.065000</td>\n",
       "      <td>164.000000</td>\n",
       "      <td>155.000000</td>\n",
       "      <td>3.320000</td>\n",
       "      <td>0.600000</td>\n",
       "      <td>11.300000</td>\n",
       "      <td>6.000000</td>\n",
       "    </tr>\n",
       "    <tr>\n",
       "      <th>max</th>\n",
       "      <td>15.900000</td>\n",
       "      <td>13.00000</td>\n",
       "      <td>9.960000</td>\n",
       "      <td>65.800000</td>\n",
       "      <td>0.611000</td>\n",
       "      <td>347.000000</td>\n",
       "      <td>440.000000</td>\n",
       "      <td>4.010000</td>\n",
       "      <td>2.000000</td>\n",
       "      <td>14.900000</td>\n",
       "      <td>9.000000</td>\n",
       "    </tr>\n",
       "  </tbody>\n",
       "</table>\n",
       "</div>"
      ],
      "text/plain": [
       "                FA          VA           CA           RS    chlorides  \\\n",
       "count  6303.000000  6497.00000  6040.000000  6425.000000  6497.000000   \n",
       "mean      7.183104     0.37178     1.863810     5.443837     0.056034   \n",
       "std       1.378804     0.50821     0.889848     4.763496     0.035034   \n",
       "min       0.110000     0.08000     0.000000     0.600000     0.009000   \n",
       "25%       6.400000     0.23000     1.330000     1.800000     0.038000   \n",
       "50%       7.000000     0.29000     1.860000     3.000000     0.047000   \n",
       "75%       7.700000     0.41000     2.380000     8.100000     0.065000   \n",
       "max      15.900000    13.00000     9.960000    65.800000     0.611000   \n",
       "\n",
       "               FSD          TSD           pH    sulphates      alcohol  \\\n",
       "count  6125.000000  5770.000000  6497.000000  6497.000000  6416.000000   \n",
       "mean    146.834122   115.802080     3.218501     0.531268    10.487661   \n",
       "std      25.724505    56.473495     0.160787     0.148806     1.191010   \n",
       "min      59.000000     6.000000     2.720000     0.220000     8.000000   \n",
       "25%     129.000000    77.000000     3.110000     0.430000     9.500000   \n",
       "50%     147.000000   118.000000     3.210000     0.510000    10.300000   \n",
       "75%     164.000000   155.000000     3.320000     0.600000    11.300000   \n",
       "max     347.000000   440.000000     4.010000     2.000000    14.900000   \n",
       "\n",
       "           quality  \n",
       "count  6497.000000  \n",
       "mean      5.818378  \n",
       "std       0.873255  \n",
       "min       3.000000  \n",
       "25%       5.000000  \n",
       "50%       6.000000  \n",
       "75%       6.000000  \n",
       "max       9.000000  "
      ]
     },
     "execution_count": 1588,
     "metadata": {},
     "output_type": "execute_result"
    }
   ],
   "source": [
    "#checking the summary of all the columns. This will give us a idea of the mean and median, IQR i.e Descriptive statistics\n",
    "df.describe()\n"
   ]
  },
  {
   "cell_type": "code",
   "execution_count": 1589,
   "metadata": {},
   "outputs": [
    {
     "data": {
      "text/plain": [
       "9       5\n",
       "3      30\n",
       "8     193\n",
       "4     216\n",
       "7    1079\n",
       "5    2138\n",
       "6    2836\n",
       "Name: quality, dtype: int64"
      ]
     },
     "execution_count": 1589,
     "metadata": {},
     "output_type": "execute_result"
    }
   ],
   "source": [
    "df['quality'].value_counts().sort_values()"
   ]
  },
  {
   "cell_type": "code",
   "execution_count": 1590,
   "metadata": {},
   "outputs": [
    {
     "data": {
      "text/html": [
       "<div>\n",
       "<style scoped>\n",
       "    .dataframe tbody tr th:only-of-type {\n",
       "        vertical-align: middle;\n",
       "    }\n",
       "\n",
       "    .dataframe tbody tr th {\n",
       "        vertical-align: top;\n",
       "    }\n",
       "\n",
       "    .dataframe thead th {\n",
       "        text-align: right;\n",
       "    }\n",
       "</style>\n",
       "<table border=\"1\" class=\"dataframe\">\n",
       "  <thead>\n",
       "    <tr style=\"text-align: right;\">\n",
       "      <th></th>\n",
       "      <th>FA</th>\n",
       "      <th>VA</th>\n",
       "      <th>CA</th>\n",
       "      <th>RS</th>\n",
       "      <th>chlorides</th>\n",
       "      <th>FSD</th>\n",
       "      <th>TSD</th>\n",
       "      <th>density</th>\n",
       "      <th>pH</th>\n",
       "      <th>sulphates</th>\n",
       "      <th>alcohol</th>\n",
       "      <th>quality</th>\n",
       "      <th>kind</th>\n",
       "    </tr>\n",
       "  </thead>\n",
       "  <tbody>\n",
       "    <tr>\n",
       "      <th>251</th>\n",
       "      <td>8.5</td>\n",
       "      <td>0.260</td>\n",
       "      <td>0.63</td>\n",
       "      <td>16.20</td>\n",
       "      <td>0.074</td>\n",
       "      <td>103.0</td>\n",
       "      <td>NaN</td>\n",
       "      <td>very high</td>\n",
       "      <td>3.02</td>\n",
       "      <td>0.50</td>\n",
       "      <td>9.80</td>\n",
       "      <td>3</td>\n",
       "      <td>white</td>\n",
       "    </tr>\n",
       "    <tr>\n",
       "      <th>253</th>\n",
       "      <td>5.8</td>\n",
       "      <td>0.240</td>\n",
       "      <td>1.32</td>\n",
       "      <td>3.50</td>\n",
       "      <td>0.029</td>\n",
       "      <td>63.0</td>\n",
       "      <td>109.0</td>\n",
       "      <td>low</td>\n",
       "      <td>3.53</td>\n",
       "      <td>0.43</td>\n",
       "      <td>11.70</td>\n",
       "      <td>3</td>\n",
       "      <td>white</td>\n",
       "    </tr>\n",
       "    <tr>\n",
       "      <th>294</th>\n",
       "      <td>9.1</td>\n",
       "      <td>0.590</td>\n",
       "      <td>1.14</td>\n",
       "      <td>1.60</td>\n",
       "      <td>0.066</td>\n",
       "      <td>94.0</td>\n",
       "      <td>182.0</td>\n",
       "      <td>high</td>\n",
       "      <td>3.23</td>\n",
       "      <td>0.38</td>\n",
       "      <td>8.50</td>\n",
       "      <td>3</td>\n",
       "      <td>white</td>\n",
       "    </tr>\n",
       "    <tr>\n",
       "      <th>445</th>\n",
       "      <td>7.1</td>\n",
       "      <td>0.320</td>\n",
       "      <td>0.96</td>\n",
       "      <td>11.00</td>\n",
       "      <td>0.038</td>\n",
       "      <td>72.0</td>\n",
       "      <td>66.0</td>\n",
       "      <td>medium</td>\n",
       "      <td>3.24</td>\n",
       "      <td>0.40</td>\n",
       "      <td>11.50</td>\n",
       "      <td>3</td>\n",
       "      <td>white</td>\n",
       "    </tr>\n",
       "    <tr>\n",
       "      <th>740</th>\n",
       "      <td>6.9</td>\n",
       "      <td>0.390</td>\n",
       "      <td>1.20</td>\n",
       "      <td>4.60</td>\n",
       "      <td>0.022</td>\n",
       "      <td>NaN</td>\n",
       "      <td>19.0</td>\n",
       "      <td>low</td>\n",
       "      <td>3.31</td>\n",
       "      <td>0.37</td>\n",
       "      <td>12.60</td>\n",
       "      <td>3</td>\n",
       "      <td>white</td>\n",
       "    </tr>\n",
       "    <tr>\n",
       "      <th>873</th>\n",
       "      <td>10.3</td>\n",
       "      <td>0.170</td>\n",
       "      <td>1.41</td>\n",
       "      <td>1.40</td>\n",
       "      <td>0.037</td>\n",
       "      <td>65.0</td>\n",
       "      <td>33.0</td>\n",
       "      <td>medium</td>\n",
       "      <td>2.89</td>\n",
       "      <td>0.28</td>\n",
       "      <td>9.60</td>\n",
       "      <td>3</td>\n",
       "      <td>white</td>\n",
       "    </tr>\n",
       "    <tr>\n",
       "      <th>1034</th>\n",
       "      <td>7.9</td>\n",
       "      <td>0.640</td>\n",
       "      <td>1.38</td>\n",
       "      <td>10.60</td>\n",
       "      <td>0.244</td>\n",
       "      <td>95.0</td>\n",
       "      <td>227.0</td>\n",
       "      <td>very high</td>\n",
       "      <td>2.87</td>\n",
       "      <td>0.74</td>\n",
       "      <td>9.10</td>\n",
       "      <td>3</td>\n",
       "      <td>white</td>\n",
       "    </tr>\n",
       "    <tr>\n",
       "      <th>1229</th>\n",
       "      <td>8.3</td>\n",
       "      <td>0.330</td>\n",
       "      <td>1.26</td>\n",
       "      <td>1.15</td>\n",
       "      <td>0.033</td>\n",
       "      <td>80.0</td>\n",
       "      <td>96.0</td>\n",
       "      <td>low</td>\n",
       "      <td>3.20</td>\n",
       "      <td>0.32</td>\n",
       "      <td>12.40</td>\n",
       "      <td>3</td>\n",
       "      <td>white</td>\n",
       "    </tr>\n",
       "    <tr>\n",
       "      <th>1417</th>\n",
       "      <td>8.6</td>\n",
       "      <td>0.550</td>\n",
       "      <td>1.05</td>\n",
       "      <td>15.55</td>\n",
       "      <td>0.057</td>\n",
       "      <td>99.5</td>\n",
       "      <td>366.5</td>\n",
       "      <td>very high</td>\n",
       "      <td>3.04</td>\n",
       "      <td>0.63</td>\n",
       "      <td>11.00</td>\n",
       "      <td>3</td>\n",
       "      <td>white</td>\n",
       "    </tr>\n",
       "    <tr>\n",
       "      <th>1484</th>\n",
       "      <td>7.5</td>\n",
       "      <td>0.320</td>\n",
       "      <td>0.72</td>\n",
       "      <td>4.60</td>\n",
       "      <td>0.053</td>\n",
       "      <td>62.0</td>\n",
       "      <td>134.0</td>\n",
       "      <td>high</td>\n",
       "      <td>3.14</td>\n",
       "      <td>0.50</td>\n",
       "      <td>9.10</td>\n",
       "      <td>3</td>\n",
       "      <td>white</td>\n",
       "    </tr>\n",
       "    <tr>\n",
       "      <th>1688</th>\n",
       "      <td>6.7</td>\n",
       "      <td>0.250</td>\n",
       "      <td>0.78</td>\n",
       "      <td>1.55</td>\n",
       "      <td>0.041</td>\n",
       "      <td>180.5</td>\n",
       "      <td>216.0</td>\n",
       "      <td>high</td>\n",
       "      <td>3.55</td>\n",
       "      <td>0.63</td>\n",
       "      <td>9.40</td>\n",
       "      <td>3</td>\n",
       "      <td>white</td>\n",
       "    </tr>\n",
       "    <tr>\n",
       "      <th>1931</th>\n",
       "      <td>7.1</td>\n",
       "      <td>0.490</td>\n",
       "      <td>0.66</td>\n",
       "      <td>2.00</td>\n",
       "      <td>0.047</td>\n",
       "      <td>208.5</td>\n",
       "      <td>307.5</td>\n",
       "      <td>medium</td>\n",
       "      <td>3.24</td>\n",
       "      <td>0.37</td>\n",
       "      <td>11.00</td>\n",
       "      <td>3</td>\n",
       "      <td>white</td>\n",
       "    </tr>\n",
       "    <tr>\n",
       "      <th>2050</th>\n",
       "      <td>NaN</td>\n",
       "      <td>0.230</td>\n",
       "      <td>1.14</td>\n",
       "      <td>11.10</td>\n",
       "      <td>0.034</td>\n",
       "      <td>71.0</td>\n",
       "      <td>123.0</td>\n",
       "      <td>very high</td>\n",
       "      <td>2.93</td>\n",
       "      <td>0.55</td>\n",
       "      <td>9.70</td>\n",
       "      <td>3</td>\n",
       "      <td>white</td>\n",
       "    </tr>\n",
       "    <tr>\n",
       "      <th>2373</th>\n",
       "      <td>7.6</td>\n",
       "      <td>0.480</td>\n",
       "      <td>1.11</td>\n",
       "      <td>1.20</td>\n",
       "      <td>0.034</td>\n",
       "      <td>69.0</td>\n",
       "      <td>57.0</td>\n",
       "      <td>medium</td>\n",
       "      <td>3.05</td>\n",
       "      <td>0.54</td>\n",
       "      <td>10.40</td>\n",
       "      <td>3</td>\n",
       "      <td>white</td>\n",
       "    </tr>\n",
       "    <tr>\n",
       "      <th>3087</th>\n",
       "      <td>6.1</td>\n",
       "      <td>0.200</td>\n",
       "      <td>1.02</td>\n",
       "      <td>9.50</td>\n",
       "      <td>0.041</td>\n",
       "      <td>96.0</td>\n",
       "      <td>NaN</td>\n",
       "      <td>high</td>\n",
       "      <td>3.14</td>\n",
       "      <td>0.44</td>\n",
       "      <td>10.10</td>\n",
       "      <td>3</td>\n",
       "      <td>white</td>\n",
       "    </tr>\n",
       "    <tr>\n",
       "      <th>3265</th>\n",
       "      <td>4.2</td>\n",
       "      <td>0.215</td>\n",
       "      <td>0.69</td>\n",
       "      <td>5.10</td>\n",
       "      <td>0.041</td>\n",
       "      <td>122.0</td>\n",
       "      <td>157.0</td>\n",
       "      <td>high</td>\n",
       "      <td>3.42</td>\n",
       "      <td>0.44</td>\n",
       "      <td>8.00</td>\n",
       "      <td>3</td>\n",
       "      <td>white</td>\n",
       "    </tr>\n",
       "    <tr>\n",
       "      <th>3307</th>\n",
       "      <td>9.4</td>\n",
       "      <td>0.240</td>\n",
       "      <td>0.87</td>\n",
       "      <td>8.50</td>\n",
       "      <td>0.037</td>\n",
       "      <td>186.0</td>\n",
       "      <td>208.0</td>\n",
       "      <td>NaN</td>\n",
       "      <td>2.90</td>\n",
       "      <td>0.38</td>\n",
       "      <td>11.00</td>\n",
       "      <td>3</td>\n",
       "      <td>white</td>\n",
       "    </tr>\n",
       "    <tr>\n",
       "      <th>3409</th>\n",
       "      <td>6.2</td>\n",
       "      <td>0.230</td>\n",
       "      <td>1.05</td>\n",
       "      <td>0.70</td>\n",
       "      <td>0.051</td>\n",
       "      <td>86.0</td>\n",
       "      <td>NaN</td>\n",
       "      <td>low</td>\n",
       "      <td>3.37</td>\n",
       "      <td>0.43</td>\n",
       "      <td>11.00</td>\n",
       "      <td>3</td>\n",
       "      <td>white</td>\n",
       "    </tr>\n",
       "    <tr>\n",
       "      <th>3810</th>\n",
       "      <td>6.8</td>\n",
       "      <td>0.260</td>\n",
       "      <td>1.02</td>\n",
       "      <td>15.10</td>\n",
       "      <td>0.060</td>\n",
       "      <td>100.0</td>\n",
       "      <td>162.0</td>\n",
       "      <td>very high</td>\n",
       "      <td>3.24</td>\n",
       "      <td>0.52</td>\n",
       "      <td>10.50</td>\n",
       "      <td>3</td>\n",
       "      <td>white</td>\n",
       "    </tr>\n",
       "    <tr>\n",
       "      <th>4745</th>\n",
       "      <td>6.1</td>\n",
       "      <td>0.260</td>\n",
       "      <td>0.75</td>\n",
       "      <td>2.90</td>\n",
       "      <td>0.047</td>\n",
       "      <td>347.0</td>\n",
       "      <td>440.0</td>\n",
       "      <td>medium</td>\n",
       "      <td>3.44</td>\n",
       "      <td>0.64</td>\n",
       "      <td>10.50</td>\n",
       "      <td>3</td>\n",
       "      <td>white</td>\n",
       "    </tr>\n",
       "    <tr>\n",
       "      <th>5357</th>\n",
       "      <td>11.6</td>\n",
       "      <td>0.580</td>\n",
       "      <td>1.98</td>\n",
       "      <td>2.20</td>\n",
       "      <td>0.074</td>\n",
       "      <td>70.0</td>\n",
       "      <td>47.0</td>\n",
       "      <td>very high</td>\n",
       "      <td>3.25</td>\n",
       "      <td>0.57</td>\n",
       "      <td>9.00</td>\n",
       "      <td>3</td>\n",
       "      <td>red</td>\n",
       "    </tr>\n",
       "    <tr>\n",
       "      <th>5415</th>\n",
       "      <td>10.4</td>\n",
       "      <td>0.610</td>\n",
       "      <td>1.47</td>\n",
       "      <td>2.10</td>\n",
       "      <td>0.200</td>\n",
       "      <td>67.0</td>\n",
       "      <td>16.0</td>\n",
       "      <td>very high</td>\n",
       "      <td>3.16</td>\n",
       "      <td>0.63</td>\n",
       "      <td>8.40</td>\n",
       "      <td>3</td>\n",
       "      <td>red</td>\n",
       "    </tr>\n",
       "    <tr>\n",
       "      <th>5588</th>\n",
       "      <td>7.4</td>\n",
       "      <td>1.185</td>\n",
       "      <td>0.00</td>\n",
       "      <td>4.25</td>\n",
       "      <td>0.097</td>\n",
       "      <td>65.0</td>\n",
       "      <td>14.0</td>\n",
       "      <td>high</td>\n",
       "      <td>3.63</td>\n",
       "      <td>0.54</td>\n",
       "      <td>10.70</td>\n",
       "      <td>3</td>\n",
       "      <td>red</td>\n",
       "    </tr>\n",
       "    <tr>\n",
       "      <th>5730</th>\n",
       "      <td>10.4</td>\n",
       "      <td>0.440</td>\n",
       "      <td>1.26</td>\n",
       "      <td>1.50</td>\n",
       "      <td>0.145</td>\n",
       "      <td>92.0</td>\n",
       "      <td>48.0</td>\n",
       "      <td>very high</td>\n",
       "      <td>3.38</td>\n",
       "      <td>0.86</td>\n",
       "      <td>9.90</td>\n",
       "      <td>3</td>\n",
       "      <td>red</td>\n",
       "    </tr>\n",
       "    <tr>\n",
       "      <th>5797</th>\n",
       "      <td>8.3</td>\n",
       "      <td>1.020</td>\n",
       "      <td>NaN</td>\n",
       "      <td>3.40</td>\n",
       "      <td>0.084</td>\n",
       "      <td>66.0</td>\n",
       "      <td>11.0</td>\n",
       "      <td>very high</td>\n",
       "      <td>3.48</td>\n",
       "      <td>0.49</td>\n",
       "      <td>11.00</td>\n",
       "      <td>3</td>\n",
       "      <td>red</td>\n",
       "    </tr>\n",
       "    <tr>\n",
       "      <th>6197</th>\n",
       "      <td>7.6</td>\n",
       "      <td>1.580</td>\n",
       "      <td>0.00</td>\n",
       "      <td>2.10</td>\n",
       "      <td>0.137</td>\n",
       "      <td>63.0</td>\n",
       "      <td>9.0</td>\n",
       "      <td>medium</td>\n",
       "      <td>3.50</td>\n",
       "      <td>0.40</td>\n",
       "      <td>10.90</td>\n",
       "      <td>3</td>\n",
       "      <td>red</td>\n",
       "    </tr>\n",
       "    <tr>\n",
       "      <th>6272</th>\n",
       "      <td>6.8</td>\n",
       "      <td>0.815</td>\n",
       "      <td>0.00</td>\n",
       "      <td>1.20</td>\n",
       "      <td>0.267</td>\n",
       "      <td>80.0</td>\n",
       "      <td>NaN</td>\n",
       "      <td>medium</td>\n",
       "      <td>3.32</td>\n",
       "      <td>0.51</td>\n",
       "      <td>9.80</td>\n",
       "      <td>3</td>\n",
       "      <td>red</td>\n",
       "    </tr>\n",
       "    <tr>\n",
       "      <th>6367</th>\n",
       "      <td>7.3</td>\n",
       "      <td>0.980</td>\n",
       "      <td>0.15</td>\n",
       "      <td>2.10</td>\n",
       "      <td>0.061</td>\n",
       "      <td>78.0</td>\n",
       "      <td>49.0</td>\n",
       "      <td>very high</td>\n",
       "      <td>3.31</td>\n",
       "      <td>0.55</td>\n",
       "      <td>9.70</td>\n",
       "      <td>3</td>\n",
       "      <td>red</td>\n",
       "    </tr>\n",
       "    <tr>\n",
       "      <th>6376</th>\n",
       "      <td>7.1</td>\n",
       "      <td>0.875</td>\n",
       "      <td>0.15</td>\n",
       "      <td>5.70</td>\n",
       "      <td>0.082</td>\n",
       "      <td>59.0</td>\n",
       "      <td>14.0</td>\n",
       "      <td>very high</td>\n",
       "      <td>3.40</td>\n",
       "      <td>0.52</td>\n",
       "      <td>10.20</td>\n",
       "      <td>3</td>\n",
       "      <td>red</td>\n",
       "    </tr>\n",
       "    <tr>\n",
       "      <th>6403</th>\n",
       "      <td>NaN</td>\n",
       "      <td>0.760</td>\n",
       "      <td>0.06</td>\n",
       "      <td>1.80</td>\n",
       "      <td>0.078</td>\n",
       "      <td>64.0</td>\n",
       "      <td>12.0</td>\n",
       "      <td>high</td>\n",
       "      <td>3.55</td>\n",
       "      <td>0.63</td>\n",
       "      <td>9.95</td>\n",
       "      <td>3</td>\n",
       "      <td>red</td>\n",
       "    </tr>\n",
       "  </tbody>\n",
       "</table>\n",
       "</div>"
      ],
      "text/plain": [
       "        FA     VA    CA     RS  chlorides    FSD    TSD    density    pH  \\\n",
       "251    8.5  0.260  0.63  16.20      0.074  103.0    NaN  very high  3.02   \n",
       "253    5.8  0.240  1.32   3.50      0.029   63.0  109.0        low  3.53   \n",
       "294    9.1  0.590  1.14   1.60      0.066   94.0  182.0       high  3.23   \n",
       "445    7.1  0.320  0.96  11.00      0.038   72.0   66.0     medium  3.24   \n",
       "740    6.9  0.390  1.20   4.60      0.022    NaN   19.0        low  3.31   \n",
       "873   10.3  0.170  1.41   1.40      0.037   65.0   33.0     medium  2.89   \n",
       "1034   7.9  0.640  1.38  10.60      0.244   95.0  227.0  very high  2.87   \n",
       "1229   8.3  0.330  1.26   1.15      0.033   80.0   96.0        low  3.20   \n",
       "1417   8.6  0.550  1.05  15.55      0.057   99.5  366.5  very high  3.04   \n",
       "1484   7.5  0.320  0.72   4.60      0.053   62.0  134.0       high  3.14   \n",
       "1688   6.7  0.250  0.78   1.55      0.041  180.5  216.0       high  3.55   \n",
       "1931   7.1  0.490  0.66   2.00      0.047  208.5  307.5     medium  3.24   \n",
       "2050   NaN  0.230  1.14  11.10      0.034   71.0  123.0  very high  2.93   \n",
       "2373   7.6  0.480  1.11   1.20      0.034   69.0   57.0     medium  3.05   \n",
       "3087   6.1  0.200  1.02   9.50      0.041   96.0    NaN       high  3.14   \n",
       "3265   4.2  0.215  0.69   5.10      0.041  122.0  157.0       high  3.42   \n",
       "3307   9.4  0.240  0.87   8.50      0.037  186.0  208.0        NaN  2.90   \n",
       "3409   6.2  0.230  1.05   0.70      0.051   86.0    NaN        low  3.37   \n",
       "3810   6.8  0.260  1.02  15.10      0.060  100.0  162.0  very high  3.24   \n",
       "4745   6.1  0.260  0.75   2.90      0.047  347.0  440.0     medium  3.44   \n",
       "5357  11.6  0.580  1.98   2.20      0.074   70.0   47.0  very high  3.25   \n",
       "5415  10.4  0.610  1.47   2.10      0.200   67.0   16.0  very high  3.16   \n",
       "5588   7.4  1.185  0.00   4.25      0.097   65.0   14.0       high  3.63   \n",
       "5730  10.4  0.440  1.26   1.50      0.145   92.0   48.0  very high  3.38   \n",
       "5797   8.3  1.020   NaN   3.40      0.084   66.0   11.0  very high  3.48   \n",
       "6197   7.6  1.580  0.00   2.10      0.137   63.0    9.0     medium  3.50   \n",
       "6272   6.8  0.815  0.00   1.20      0.267   80.0    NaN     medium  3.32   \n",
       "6367   7.3  0.980  0.15   2.10      0.061   78.0   49.0  very high  3.31   \n",
       "6376   7.1  0.875  0.15   5.70      0.082   59.0   14.0  very high  3.40   \n",
       "6403   NaN  0.760  0.06   1.80      0.078   64.0   12.0       high  3.55   \n",
       "\n",
       "      sulphates  alcohol  quality   kind  \n",
       "251        0.50     9.80        3  white  \n",
       "253        0.43    11.70        3  white  \n",
       "294        0.38     8.50        3  white  \n",
       "445        0.40    11.50        3  white  \n",
       "740        0.37    12.60        3  white  \n",
       "873        0.28     9.60        3  white  \n",
       "1034       0.74     9.10        3  white  \n",
       "1229       0.32    12.40        3  white  \n",
       "1417       0.63    11.00        3  white  \n",
       "1484       0.50     9.10        3  white  \n",
       "1688       0.63     9.40        3  white  \n",
       "1931       0.37    11.00        3  white  \n",
       "2050       0.55     9.70        3  white  \n",
       "2373       0.54    10.40        3  white  \n",
       "3087       0.44    10.10        3  white  \n",
       "3265       0.44     8.00        3  white  \n",
       "3307       0.38    11.00        3  white  \n",
       "3409       0.43    11.00        3  white  \n",
       "3810       0.52    10.50        3  white  \n",
       "4745       0.64    10.50        3  white  \n",
       "5357       0.57     9.00        3    red  \n",
       "5415       0.63     8.40        3    red  \n",
       "5588       0.54    10.70        3    red  \n",
       "5730       0.86     9.90        3    red  \n",
       "5797       0.49    11.00        3    red  \n",
       "6197       0.40    10.90        3    red  \n",
       "6272       0.51     9.80        3    red  \n",
       "6367       0.55     9.70        3    red  \n",
       "6376       0.52    10.20        3    red  \n",
       "6403       0.63     9.95        3    red  "
      ]
     },
     "execution_count": 1590,
     "metadata": {},
     "output_type": "execute_result"
    }
   ],
   "source": [
    "df[df['quality'] <= 3]"
   ]
  },
  {
   "cell_type": "code",
   "execution_count": 1591,
   "metadata": {},
   "outputs": [],
   "source": [
    "#replace the null values with its mean\n",
    "\n",
    "df.fillna(df.mean(),inplace=True)"
   ]
  },
  {
   "cell_type": "code",
   "execution_count": 1592,
   "metadata": {},
   "outputs": [
    {
     "data": {
      "text/plain": [
       "FA             0\n",
       "VA             0\n",
       "CA             0\n",
       "RS             0\n",
       "chlorides      0\n",
       "FSD            0\n",
       "TSD            0\n",
       "density      192\n",
       "pH             0\n",
       "sulphates      0\n",
       "alcohol        0\n",
       "quality        0\n",
       "kind           0\n",
       "dtype: int64"
      ]
     },
     "execution_count": 1592,
     "metadata": {},
     "output_type": "execute_result"
    }
   ],
   "source": [
    "df.isna().sum()"
   ]
  },
  {
   "cell_type": "markdown",
   "metadata": {},
   "source": [
    "There are still 192 missing categorical values present for the density feature. now - remove them."
   ]
  },
  {
   "cell_type": "code",
   "execution_count": 1593,
   "metadata": {},
   "outputs": [],
   "source": [
    "df.dropna(inplace=True)"
   ]
  },
  {
   "cell_type": "markdown",
   "metadata": {},
   "source": [
    "**Exploratory Data Analysis**"
   ]
  },
  {
   "cell_type": "code",
   "execution_count": 1594,
   "metadata": {},
   "outputs": [
    {
     "data": {
      "text/plain": [
       "True"
      ]
     },
     "execution_count": 1594,
     "metadata": {},
     "output_type": "execute_result"
    }
   ],
   "source": [
    "df['kind'].dtype == 'object'"
   ]
  },
  {
   "cell_type": "code",
   "execution_count": 1595,
   "metadata": {},
   "outputs": [
    {
     "data": {
      "image/png": "[encoded data removed]",
      "text/plain": [
       "<Figure size 432x288 with 1 Axes>"
      ]
     },
     "metadata": {
      "needs_background": "light"
     },
     "output_type": "display_data"
    },
    {
     "data": {
      "image/png": "[encoded data removed]",
      "text/plain": [
       "<Figure size 432x288 with 1 Axes>"
      ]
     },
     "metadata": {
      "needs_background": "light"
     },
     "output_type": "display_data"
    },
    {
     "data": {
      "image/png": "[encoded data removed]",
      "text/plain": [
       "<Figure size 432x288 with 1 Axes>"
      ]
     },
     "metadata": {
      "needs_background": "light"
     },
     "output_type": "display_data"
    },
    {
     "data": {
      "image/png": "[encoded data removed]",
      "text/plain": [
       "<Figure size 432x288 with 1 Axes>"
      ]
     },
     "metadata": {
      "needs_background": "light"
     },
     "output_type": "display_data"
    },
    {
     "data": {
      "image/png": "[encoded data removed]",
      "text/plain": [
       "<Figure size 432x288 with 1 Axes>"
      ]
     },
     "metadata": {
      "needs_background": "light"
     },
     "output_type": "display_data"
    },
    {
     "data": {
      "image/png": "[encoded data removed]",
      "text/plain": [
       "<Figure size 432x288 with 1 Axes>"
      ]
     },
     "metadata": {
      "needs_background": "light"
     },
     "output_type": "display_data"
    },
    {
     "data": {
      "image/png": "[encoded data removed]",
      "text/plain": [
       "<Figure size 432x288 with 1 Axes>"
      ]
     },
     "metadata": {
      "needs_background": "light"
     },
     "output_type": "display_data"
    },
    {
     "data": {
      "image/png": "[encoded data removed]",
      "text/plain": [
       "<Figure size 432x288 with 1 Axes>"
      ]
     },
     "metadata": {
      "needs_background": "light"
     },
     "output_type": "display_data"
    },
    {
     "data": {
      "image/png": "[encoded data removed]",
      "text/plain": [
       "<Figure size 432x288 with 1 Axes>"
      ]
     },
     "metadata": {
      "needs_background": "light"
     },
     "output_type": "display_data"
    },
    {
     "data": {
      "image/png": "[encoded data removed]",
      "text/plain": [
       "<Figure size 432x288 with 1 Axes>"
      ]
     },
     "metadata": {
      "needs_background": "light"
     },
     "output_type": "display_data"
    },
    {
     "data": {
      "image/png": "[encoded data removed]",
      "text/plain": [
       "<Figure size 432x288 with 1 Axes>"
      ]
     },
     "metadata": {
      "needs_background": "light"
     },
     "output_type": "display_data"
    }
   ],
   "source": [
    "#checking the distibution of each of the column\n",
    "\n",
    "for i in df.columns:\n",
    "    if df[i].dtypes != 'object':\n",
    "        df.hist(column = i,color = ['green'])\n",
    "  \n",
    "    plt.xlabel(i)\n",
    "    plt.ylabel(\"Frequency\")\n",
    "    plt.title(\"Histogram for \" + str(i))"
   ]
  },
  {
   "cell_type": "markdown",
   "metadata": {},
   "source": [
    "We can see that many of the features doesn't have a normal distribution and has skewed distribution.  \n",
    "There might be a presnce of outliers. So now remove such outliers. Outliers affects the performance "
   ]
  },
  {
   "cell_type": "code",
   "execution_count": 1596,
   "metadata": {},
   "outputs": [
    {
     "data": {
      "text/plain": [
       "['FA',\n",
       " 'VA',\n",
       " 'CA',\n",
       " 'RS',\n",
       " 'chlorides',\n",
       " 'FSD',\n",
       " 'TSD',\n",
       " 'density',\n",
       " 'pH',\n",
       " 'sulphates',\n",
       " 'alcohol',\n",
       " 'quality',\n",
       " 'kind']"
      ]
     },
     "execution_count": 1596,
     "metadata": {},
     "output_type": "execute_result"
    }
   ],
   "source": [
    "list(df.columns)"
   ]
  },
  {
   "cell_type": "code",
   "execution_count": 1597,
   "metadata": {},
   "outputs": [
    {
     "data": {
      "image/png": "[encoded data removed]",
      "text/plain": [
       "<Figure size 576x576 with 1 Axes>"
      ]
     },
     "metadata": {
      "needs_background": "light"
     },
     "output_type": "display_data"
    },
    {
     "data": {
      "image/png": "[encoded data removed]",
      "text/plain": [
       "<Figure size 576x576 with 1 Axes>"
      ]
     },
     "metadata": {
      "needs_background": "light"
     },
     "output_type": "display_data"
    },
    {
     "data": {
      "image/png": "[encoded data removed]",
      "text/plain": [
       "<Figure size 576x576 with 1 Axes>"
      ]
     },
     "metadata": {
      "needs_background": "light"
     },
     "output_type": "display_data"
    },
    {
     "data": {
      "image/png": "[encoded data removed]",
      "text/plain": [
       "<Figure size 576x576 with 1 Axes>"
      ]
     },
     "metadata": {
      "needs_background": "light"
     },
     "output_type": "display_data"
    },
    {
     "data": {
      "image/png": "[encoded data removed]",
      "text/plain": [
       "<Figure size 576x576 with 1 Axes>"
      ]
     },
     "metadata": {
      "needs_background": "light"
     },
     "output_type": "display_data"
    },
    {
     "data": {
      "image/png": "[encoded data removed]",
      "text/plain": [
       "<Figure size 576x576 with 1 Axes>"
      ]
     },
     "metadata": {
      "needs_background": "light"
     },
     "output_type": "display_data"
    },
    {
     "data": {
      "image/png": "[encoded data removed]",
      "text/plain": [
       "<Figure size 576x576 with 1 Axes>"
      ]
     },
     "metadata": {
      "needs_background": "light"
     },
     "output_type": "display_data"
    },
    {
     "data": {
      "image/png": "[encoded data removed]",
      "text/plain": [
       "<Figure size 576x576 with 1 Axes>"
      ]
     },
     "metadata": {
      "needs_background": "light"
     },
     "output_type": "display_data"
    },
    {
     "data": {
      "image/png": "[encoded data removed]",
      "text/plain": [
       "<Figure size 576x576 with 1 Axes>"
      ]
     },
     "metadata": {
      "needs_background": "light"
     },
     "output_type": "display_data"
    },
    {
     "data": {
      "image/png": "[encoded data removed]",
      "text/plain": [
       "<Figure size 576x576 with 1 Axes>"
      ]
     },
     "metadata": {
      "needs_background": "light"
     },
     "output_type": "display_data"
    },
    {
     "data": {
      "image/png": "[encoded data removed]",
      "text/plain": [
       "<Figure size 576x576 with 1 Axes>"
      ]
     },
     "metadata": {
      "needs_background": "light"
     },
     "output_type": "display_data"
    }
   ],
   "source": [
    "for i in df.columns:\n",
    "    if df[i].dtypes != 'object':\n",
    "        plt.figure(figsize = (8,8))\n",
    "        plt.boxplot(df[i])\n",
    "        plt.xlabel(i)\n",
    "        plt.title(\"Histogram for \" + str(i))\n",
    "        plt.show()"
   ]
  },
  {
   "cell_type": "code",
   "execution_count": 1598,
   "metadata": {},
   "outputs": [
    {
     "name": "stdout",
     "output_type": "stream",
     "text": [
      "9\n",
      "4\n",
      "8\n",
      "3\n",
      "12\n",
      "1\n",
      "348\n",
      "7\n",
      "7\n",
      "3\n",
      "the number of instances after removal of the outlliers is  5865\n"
     ]
    }
   ],
   "source": [
    "#we can see a large number of outliers. now remove them\n",
    "\n",
    "print(len(df[df['FA'] > 14]))\n",
    "print(len(df[df['VA'] > 8.0]))\n",
    "print(len(df[df['CA'] > 5.5]))\n",
    "print(len(df[df['RS'] > 30]))\n",
    "print(len(df[df['chlorides'] > 0.40]))\n",
    "print(len(df[df['FSD'] > 300]))\n",
    "print(len(df[df['TSD'] > 200]))\n",
    "print(len(df[df['pH'] > 3.8]))\n",
    "print(len(df[df['sulphates'] > 1.50]))\n",
    "print(len(df[df['alcohol'] > 14]))\n",
    "\n",
    "df = df[df['FA'] < 14]\n",
    "df = df[df['VA'] < 8.0]\n",
    "df = df[df['CA'] < 5.5]\n",
    "df = df[df['RS'] < 30]\n",
    "df = df[df['chlorides'] < 0.40]\n",
    "df = df[df['FSD'] < 300]\n",
    "df = df[df['TSD'] < 200]\n",
    "df = df[df['pH'] < 3.8]\n",
    "df = df[df['pH'] > 2.8]\n",
    "df = df[df['sulphates'] < 1.50]\n",
    "df = df[df['alcohol'] < 14]\n",
    "\n",
    "print(\"the number of instances after removal of the outlliers is \",len(df))"
   ]
  },
  {
   "cell_type": "code",
   "execution_count": 1599,
   "metadata": {},
   "outputs": [
    {
     "data": {
      "image/png": "[encoded data removed]",
      "text/plain": [
       "<Figure size 432x288 with 2 Axes>"
      ]
     },
     "metadata": {
      "needs_background": "light"
     },
     "output_type": "display_data"
    }
   ],
   "source": [
    "#Further research data on relationships between the columns\n",
    "fig, a = plt.subplots(2)\n",
    "x = df['TSD']\n",
    "y = df['FSD']\n",
    "a[0].plot(x, y, 'o', color='green')\n",
    "a[0].set_ylabel('TSD')\n",
    "a[0].set_xlabel('FSD')\n",
    "\n",
    "a[1].plot(df['chlorides'],df['sulphates'], 'o', color='blue')\n",
    "a[1].set_ylabel('chlorides')\n",
    "a[1].set_xlabel('sulphates')\n",
    "\n",
    "plt.tight_layout()"
   ]
  },
  {
   "cell_type": "code",
   "execution_count": 1600,
   "metadata": {},
   "outputs": [
    {
     "data": {
      "text/plain": [
       "Text(0, 0.5, 'FA')"
      ]
     },
     "execution_count": 1600,
     "metadata": {},
     "output_type": "execute_result"
    },
    {
     "data": {
      "image/png": "[encoded data removed]",
      "text/plain": [
       "<Figure size 1080x1080 with 2 Axes>"
      ]
     },
     "metadata": {
      "needs_background": "light"
     },
     "output_type": "display_data"
    }
   ],
   "source": [
    "df_copy = df.copy()\n",
    "conv_dict={'low':1,'medium':2,'high':3,'very high':4}\n",
    "df_copy['density_ord']=df_copy['density'].apply(conv_dict.get)\n",
    "sorted_sectors=sorted(df_copy['density_ord'].unique())\n",
    "sector_cat= pd.Categorical(df_copy['density_ord'], ordered=True, categories= sorted_sectors)\n",
    "sector_cat.codes\n",
    "plt.scatter(df_copy['alcohol'], df_copy['FA'], s= df_copy['RS']*4, alpha=0.7,\n",
    "cmap='jet')\n",
    "plt.colorbar()\n",
    "plt.gcf().set_size_inches((15, 15))\n",
    "plt.xlabel('alcohol', fontsize=18)\n",
    "plt.ylabel('FA', fontsize=16)"
   ]
  },
  {
   "cell_type": "code",
   "execution_count": 1601,
   "metadata": {},
   "outputs": [
    {
     "data": {
      "text/html": [
       "<div>\n",
       "<style scoped>\n",
       "    .dataframe tbody tr th:only-of-type {\n",
       "        vertical-align: middle;\n",
       "    }\n",
       "\n",
       "    .dataframe tbody tr th {\n",
       "        vertical-align: top;\n",
       "    }\n",
       "\n",
       "    .dataframe thead th {\n",
       "        text-align: right;\n",
       "    }\n",
       "</style>\n",
       "<table border=\"1\" class=\"dataframe\">\n",
       "  <thead>\n",
       "    <tr style=\"text-align: right;\">\n",
       "      <th></th>\n",
       "      <th></th>\n",
       "      <th>CA</th>\n",
       "      <th>FA</th>\n",
       "      <th>FSD</th>\n",
       "      <th>RS</th>\n",
       "      <th>TSD</th>\n",
       "      <th>VA</th>\n",
       "      <th>alcohol</th>\n",
       "      <th>chlorides</th>\n",
       "    </tr>\n",
       "    <tr>\n",
       "      <th>density</th>\n",
       "      <th>kind</th>\n",
       "      <th></th>\n",
       "      <th></th>\n",
       "      <th></th>\n",
       "      <th></th>\n",
       "      <th></th>\n",
       "      <th></th>\n",
       "      <th></th>\n",
       "      <th></th>\n",
       "    </tr>\n",
       "  </thead>\n",
       "  <tbody>\n",
       "    <tr>\n",
       "      <th rowspan=\"2\" valign=\"top\">high</th>\n",
       "      <th>red</th>\n",
       "      <td>1.264473</td>\n",
       "      <td>7.665782</td>\n",
       "      <td>129.522856</td>\n",
       "      <td>2.290621</td>\n",
       "      <td>52.618584</td>\n",
       "      <td>0.575140</td>\n",
       "      <td>10.404306</td>\n",
       "      <td>0.083022</td>\n",
       "    </tr>\n",
       "    <tr>\n",
       "      <th>white</th>\n",
       "      <td>1.831789</td>\n",
       "      <td>6.962982</td>\n",
       "      <td>149.490908</td>\n",
       "      <td>8.429048</td>\n",
       "      <td>143.383825</td>\n",
       "      <td>0.339164</td>\n",
       "      <td>9.835330</td>\n",
       "      <td>0.049779</td>\n",
       "    </tr>\n",
       "    <tr>\n",
       "      <th rowspan=\"2\" valign=\"top\">low</th>\n",
       "      <th>red</th>\n",
       "      <td>1.296923</td>\n",
       "      <td>6.184615</td>\n",
       "      <td>152.269231</td>\n",
       "      <td>1.896154</td>\n",
       "      <td>78.369391</td>\n",
       "      <td>0.380000</td>\n",
       "      <td>12.766667</td>\n",
       "      <td>0.046923</td>\n",
       "    </tr>\n",
       "    <tr>\n",
       "      <th>white</th>\n",
       "      <td>2.010546</td>\n",
       "      <td>6.585660</td>\n",
       "      <td>155.706574</td>\n",
       "      <td>2.641196</td>\n",
       "      <td>112.839749</td>\n",
       "      <td>0.306069</td>\n",
       "      <td>11.750693</td>\n",
       "      <td>0.036996</td>\n",
       "    </tr>\n",
       "    <tr>\n",
       "      <th rowspan=\"2\" valign=\"top\">medium</th>\n",
       "      <th>red</th>\n",
       "      <td>1.350816</td>\n",
       "      <td>6.943573</td>\n",
       "      <td>135.010663</td>\n",
       "      <td>2.124104</td>\n",
       "      <td>42.559785</td>\n",
       "      <td>0.552527</td>\n",
       "      <td>11.639431</td>\n",
       "      <td>0.070617</td>\n",
       "    </tr>\n",
       "    <tr>\n",
       "      <th>white</th>\n",
       "      <td>1.875285</td>\n",
       "      <td>6.876467</td>\n",
       "      <td>146.184591</td>\n",
       "      <td>4.362079</td>\n",
       "      <td>126.006829</td>\n",
       "      <td>0.289737</td>\n",
       "      <td>10.373527</td>\n",
       "      <td>0.049143</td>\n",
       "    </tr>\n",
       "    <tr>\n",
       "      <th rowspan=\"2\" valign=\"top\">very high</th>\n",
       "      <th>red</th>\n",
       "      <td>1.906861</td>\n",
       "      <td>9.205457</td>\n",
       "      <td>127.211015</td>\n",
       "      <td>2.968260</td>\n",
       "      <td>58.583034</td>\n",
       "      <td>0.522153</td>\n",
       "      <td>10.023025</td>\n",
       "      <td>0.090769</td>\n",
       "    </tr>\n",
       "    <tr>\n",
       "      <th>white</th>\n",
       "      <td>2.067358</td>\n",
       "      <td>7.065353</td>\n",
       "      <td>155.286211</td>\n",
       "      <td>13.959277</td>\n",
       "      <td>151.808613</td>\n",
       "      <td>0.301623</td>\n",
       "      <td>9.281584</td>\n",
       "      <td>0.051036</td>\n",
       "    </tr>\n",
       "  </tbody>\n",
       "</table>\n",
       "</div>"
      ],
      "text/plain": [
       "                       CA        FA         FSD         RS         TSD  \\\n",
       "density   kind                                                           \n",
       "high      red    1.264473  7.665782  129.522856   2.290621   52.618584   \n",
       "          white  1.831789  6.962982  149.490908   8.429048  143.383825   \n",
       "low       red    1.296923  6.184615  152.269231   1.896154   78.369391   \n",
       "          white  2.010546  6.585660  155.706574   2.641196  112.839749   \n",
       "medium    red    1.350816  6.943573  135.010663   2.124104   42.559785   \n",
       "          white  1.875285  6.876467  146.184591   4.362079  126.006829   \n",
       "very high red    1.906861  9.205457  127.211015   2.968260   58.583034   \n",
       "          white  2.067358  7.065353  155.286211  13.959277  151.808613   \n",
       "\n",
       "                       VA    alcohol  chlorides  \n",
       "density   kind                                   \n",
       "high      red    0.575140  10.404306   0.083022  \n",
       "          white  0.339164   9.835330   0.049779  \n",
       "low       red    0.380000  12.766667   0.046923  \n",
       "          white  0.306069  11.750693   0.036996  \n",
       "medium    red    0.552527  11.639431   0.070617  \n",
       "          white  0.289737  10.373527   0.049143  \n",
       "very high red    0.522153  10.023025   0.090769  \n",
       "          white  0.301623   9.281584   0.051036  "
      ]
     },
     "execution_count": 1601,
     "metadata": {},
     "output_type": "execute_result"
    }
   ],
   "source": [
    "df.pivot_table(index=['density', 'kind'],\n",
    "aggfunc={'TSD':'mean', 'chlorides':'mean','alcohol':'mean','FA':'mean', 'VA':'mean', 'CA':'mean', 'RS':'mean', 'FSD':'mean'})"
   ]
  },
  {
   "cell_type": "code",
   "execution_count": 1602,
   "metadata": {},
   "outputs": [],
   "source": [
    "#Turn this problem into a classification problem. if the quality is less than 5 we classify it as poor else as high quality\n",
    "def classify(i):\n",
    "\n",
    "  if i<=5:\n",
    "    return 0\n",
    "  else:\n",
    "    return 1\n",
    "  \n",
    "df['quality'] = df['quality'].apply(classify)\n"
   ]
  },
  {
   "cell_type": "code",
   "execution_count": 1603,
   "metadata": {},
   "outputs": [
    {
     "data": {
      "text/plain": [
       "Text(0, 0.5, 'Counts')"
      ]
     },
     "execution_count": 1603,
     "metadata": {},
     "output_type": "execute_result"
    },
    {
     "data": {
      "image/png": "[encoded data removed]",
      "text/plain": [
       "<Figure size 432x288 with 1 Axes>"
      ]
     },
     "metadata": {
      "needs_background": "light"
     },
     "output_type": "display_data"
    }
   ],
   "source": [
    "df['quality'].value_counts().plot(kind = 'bar',color = ['Yellow','green'])\n",
    "plt.xlabel('Quailty')\n",
    "plt.ylabel('Counts')"
   ]
  },
  {
   "cell_type": "markdown",
   "metadata": {},
   "source": [
    "We can see that there are 3750 high quality wine as compared to 1800 low quality wine"
   ]
  },
  {
   "cell_type": "code",
   "execution_count": 1604,
   "metadata": {},
   "outputs": [
    {
     "data": {
      "text/html": [
       "<div>\n",
       "<style scoped>\n",
       "    .dataframe tbody tr th:only-of-type {\n",
       "        vertical-align: middle;\n",
       "    }\n",
       "\n",
       "    .dataframe tbody tr th {\n",
       "        vertical-align: top;\n",
       "    }\n",
       "\n",
       "    .dataframe thead th {\n",
       "        text-align: right;\n",
       "    }\n",
       "</style>\n",
       "<table border=\"1\" class=\"dataframe\">\n",
       "  <thead>\n",
       "    <tr style=\"text-align: right;\">\n",
       "      <th></th>\n",
       "      <th>FA</th>\n",
       "      <th>VA</th>\n",
       "      <th>CA</th>\n",
       "      <th>RS</th>\n",
       "      <th>chlorides</th>\n",
       "      <th>FSD</th>\n",
       "      <th>TSD</th>\n",
       "      <th>pH</th>\n",
       "      <th>sulphates</th>\n",
       "      <th>alcohol</th>\n",
       "      <th>quality</th>\n",
       "      <th>high</th>\n",
       "      <th>low</th>\n",
       "      <th>medium</th>\n",
       "      <th>very high</th>\n",
       "      <th>red</th>\n",
       "      <th>white</th>\n",
       "    </tr>\n",
       "  </thead>\n",
       "  <tbody>\n",
       "    <tr>\n",
       "      <th>FA</th>\n",
       "      <td>1.000000</td>\n",
       "      <td>-0.235644</td>\n",
       "      <td>0.259100</td>\n",
       "      <td>-0.121842</td>\n",
       "      <td>0.318792</td>\n",
       "      <td>-0.229392</td>\n",
       "      <td>-0.320969</td>\n",
       "      <td>-0.213252</td>\n",
       "      <td>0.290203</td>\n",
       "      <td>-0.094625</td>\n",
       "      <td>-0.062965</td>\n",
       "      <td>0.041764</td>\n",
       "      <td>-0.271115</td>\n",
       "      <td>-0.133159</td>\n",
       "      <td>0.377182</td>\n",
       "      <td>0.465210</td>\n",
       "      <td>-0.465210</td>\n",
       "    </tr>\n",
       "    <tr>\n",
       "      <th>VA</th>\n",
       "      <td>-0.235644</td>\n",
       "      <td>1.000000</td>\n",
       "      <td>-0.167317</td>\n",
       "      <td>-0.057765</td>\n",
       "      <td>0.141951</td>\n",
       "      <td>-0.139895</td>\n",
       "      <td>-0.149230</td>\n",
       "      <td>0.109960</td>\n",
       "      <td>0.059575</td>\n",
       "      <td>-0.023071</td>\n",
       "      <td>-0.105505</td>\n",
       "      <td>0.098261</td>\n",
       "      <td>-0.081709</td>\n",
       "      <td>-0.060212</td>\n",
       "      <td>0.048182</td>\n",
       "      <td>0.233748</td>\n",
       "      <td>-0.233748</td>\n",
       "    </tr>\n",
       "    <tr>\n",
       "      <th>CA</th>\n",
       "      <td>0.259100</td>\n",
       "      <td>-0.167317</td>\n",
       "      <td>1.000000</td>\n",
       "      <td>0.087391</td>\n",
       "      <td>-0.071685</td>\n",
       "      <td>0.350487</td>\n",
       "      <td>0.165348</td>\n",
       "      <td>-0.274567</td>\n",
       "      <td>0.060450</td>\n",
       "      <td>0.149967</td>\n",
       "      <td>0.325197</td>\n",
       "      <td>-0.183229</td>\n",
       "      <td>0.112121</td>\n",
       "      <td>-0.025834</td>\n",
       "      <td>0.094565</td>\n",
       "      <td>-0.201989</td>\n",
       "      <td>0.201989</td>\n",
       "    </tr>\n",
       "    <tr>\n",
       "      <th>RS</th>\n",
       "      <td>-0.121842</td>\n",
       "      <td>-0.057765</td>\n",
       "      <td>0.087391</td>\n",
       "      <td>1.000000</td>\n",
       "      <td>-0.137453</td>\n",
       "      <td>0.229317</td>\n",
       "      <td>0.425759</td>\n",
       "      <td>-0.265373</td>\n",
       "      <td>-0.197020</td>\n",
       "      <td>-0.334723</td>\n",
       "      <td>-0.020095</td>\n",
       "      <td>0.058108</td>\n",
       "      <td>-0.334502</td>\n",
       "      <td>-0.140405</td>\n",
       "      <td>0.434084</td>\n",
       "      <td>-0.336936</td>\n",
       "      <td>0.336936</td>\n",
       "    </tr>\n",
       "    <tr>\n",
       "      <th>chlorides</th>\n",
       "      <td>0.318792</td>\n",
       "      <td>0.141951</td>\n",
       "      <td>-0.071685</td>\n",
       "      <td>-0.137453</td>\n",
       "      <td>1.000000</td>\n",
       "      <td>-0.290081</td>\n",
       "      <td>-0.309868</td>\n",
       "      <td>0.104672</td>\n",
       "      <td>0.330730</td>\n",
       "      <td>-0.288974</td>\n",
       "      <td>-0.195744</td>\n",
       "      <td>0.180102</td>\n",
       "      <td>-0.366699</td>\n",
       "      <td>-0.070612</td>\n",
       "      <td>0.272708</td>\n",
       "      <td>0.573684</td>\n",
       "      <td>-0.573684</td>\n",
       "    </tr>\n",
       "    <tr>\n",
       "      <th>FSD</th>\n",
       "      <td>-0.229392</td>\n",
       "      <td>-0.139895</td>\n",
       "      <td>0.350487</td>\n",
       "      <td>0.229317</td>\n",
       "      <td>-0.290081</td>\n",
       "      <td>1.000000</td>\n",
       "      <td>0.429562</td>\n",
       "      <td>-0.089426</td>\n",
       "      <td>-0.084691</td>\n",
       "      <td>0.207360</td>\n",
       "      <td>0.593122</td>\n",
       "      <td>-0.125752</td>\n",
       "      <td>0.236153</td>\n",
       "      <td>-0.026680</td>\n",
       "      <td>-0.091299</td>\n",
       "      <td>-0.392098</td>\n",
       "      <td>0.392098</td>\n",
       "    </tr>\n",
       "    <tr>\n",
       "      <th>TSD</th>\n",
       "      <td>-0.320969</td>\n",
       "      <td>-0.149230</td>\n",
       "      <td>0.165348</td>\n",
       "      <td>0.425759</td>\n",
       "      <td>-0.309868</td>\n",
       "      <td>0.429562</td>\n",
       "      <td>1.000000</td>\n",
       "      <td>-0.243146</td>\n",
       "      <td>-0.286312</td>\n",
       "      <td>-0.191846</td>\n",
       "      <td>-0.012835</td>\n",
       "      <td>-0.090194</td>\n",
       "      <td>0.037942</td>\n",
       "      <td>0.076692</td>\n",
       "      <td>-0.027834</td>\n",
       "      <td>-0.687193</td>\n",
       "      <td>0.687193</td>\n",
       "    </tr>\n",
       "    <tr>\n",
       "      <th>pH</th>\n",
       "      <td>-0.213252</td>\n",
       "      <td>0.109960</td>\n",
       "      <td>-0.274567</td>\n",
       "      <td>-0.265373</td>\n",
       "      <td>0.104672</td>\n",
       "      <td>-0.089426</td>\n",
       "      <td>-0.243146</td>\n",
       "      <td>1.000000</td>\n",
       "      <td>0.242536</td>\n",
       "      <td>0.090107</td>\n",
       "      <td>0.002468</td>\n",
       "      <td>0.108971</td>\n",
       "      <td>-0.083889</td>\n",
       "      <td>0.007670</td>\n",
       "      <td>-0.030415</td>\n",
       "      <td>0.347311</td>\n",
       "      <td>-0.347311</td>\n",
       "    </tr>\n",
       "    <tr>\n",
       "      <th>sulphates</th>\n",
       "      <td>0.290203</td>\n",
       "      <td>0.059575</td>\n",
       "      <td>0.060450</td>\n",
       "      <td>-0.197020</td>\n",
       "      <td>0.330730</td>\n",
       "      <td>-0.084691</td>\n",
       "      <td>-0.286312</td>\n",
       "      <td>0.242536</td>\n",
       "      <td>1.000000</td>\n",
       "      <td>0.002503</td>\n",
       "      <td>0.057091</td>\n",
       "      <td>0.081933</td>\n",
       "      <td>-0.180421</td>\n",
       "      <td>-0.102380</td>\n",
       "      <td>0.210730</td>\n",
       "      <td>0.493155</td>\n",
       "      <td>-0.493155</td>\n",
       "    </tr>\n",
       "    <tr>\n",
       "      <th>alcohol</th>\n",
       "      <td>-0.094625</td>\n",
       "      <td>-0.023071</td>\n",
       "      <td>0.149967</td>\n",
       "      <td>-0.334723</td>\n",
       "      <td>-0.288974</td>\n",
       "      <td>0.207360</td>\n",
       "      <td>-0.191846</td>\n",
       "      <td>0.090107</td>\n",
       "      <td>0.002503</td>\n",
       "      <td>1.000000</td>\n",
       "      <td>0.397222</td>\n",
       "      <td>-0.213711</td>\n",
       "      <td>0.624465</td>\n",
       "      <td>-0.005089</td>\n",
       "      <td>-0.428590</td>\n",
       "      <td>-0.064638</td>\n",
       "      <td>0.064638</td>\n",
       "    </tr>\n",
       "    <tr>\n",
       "      <th>quality</th>\n",
       "      <td>-0.062965</td>\n",
       "      <td>-0.105505</td>\n",
       "      <td>0.325197</td>\n",
       "      <td>-0.020095</td>\n",
       "      <td>-0.195744</td>\n",
       "      <td>0.593122</td>\n",
       "      <td>-0.012835</td>\n",
       "      <td>0.002468</td>\n",
       "      <td>0.057091</td>\n",
       "      <td>0.397222</td>\n",
       "      <td>1.000000</td>\n",
       "      <td>-0.137526</td>\n",
       "      <td>0.266732</td>\n",
       "      <td>0.003163</td>\n",
       "      <td>-0.142037</td>\n",
       "      <td>-0.130579</td>\n",
       "      <td>0.130579</td>\n",
       "    </tr>\n",
       "    <tr>\n",
       "      <th>high</th>\n",
       "      <td>0.041764</td>\n",
       "      <td>0.098261</td>\n",
       "      <td>-0.183229</td>\n",
       "      <td>0.058108</td>\n",
       "      <td>0.180102</td>\n",
       "      <td>-0.125752</td>\n",
       "      <td>-0.090194</td>\n",
       "      <td>0.108971</td>\n",
       "      <td>0.081933</td>\n",
       "      <td>-0.213711</td>\n",
       "      <td>-0.137526</td>\n",
       "      <td>1.000000</td>\n",
       "      <td>-0.337318</td>\n",
       "      <td>-0.332738</td>\n",
       "      <td>-0.312362</td>\n",
       "      <td>0.256892</td>\n",
       "      <td>-0.256892</td>\n",
       "    </tr>\n",
       "    <tr>\n",
       "      <th>low</th>\n",
       "      <td>-0.271115</td>\n",
       "      <td>-0.081709</td>\n",
       "      <td>0.112121</td>\n",
       "      <td>-0.334502</td>\n",
       "      <td>-0.366699</td>\n",
       "      <td>0.236153</td>\n",
       "      <td>0.037942</td>\n",
       "      <td>-0.083889</td>\n",
       "      <td>-0.180421</td>\n",
       "      <td>0.624465</td>\n",
       "      <td>0.266732</td>\n",
       "      <td>-0.337318</td>\n",
       "      <td>1.000000</td>\n",
       "      <td>-0.354957</td>\n",
       "      <td>-0.333220</td>\n",
       "      <td>-0.341092</td>\n",
       "      <td>0.341092</td>\n",
       "    </tr>\n",
       "    <tr>\n",
       "      <th>medium</th>\n",
       "      <td>-0.133159</td>\n",
       "      <td>-0.060212</td>\n",
       "      <td>-0.025834</td>\n",
       "      <td>-0.140405</td>\n",
       "      <td>-0.070612</td>\n",
       "      <td>-0.026680</td>\n",
       "      <td>0.076692</td>\n",
       "      <td>0.007670</td>\n",
       "      <td>-0.102380</td>\n",
       "      <td>-0.005089</td>\n",
       "      <td>0.003163</td>\n",
       "      <td>-0.332738</td>\n",
       "      <td>-0.354957</td>\n",
       "      <td>1.000000</td>\n",
       "      <td>-0.328696</td>\n",
       "      <td>-0.180386</td>\n",
       "      <td>0.180386</td>\n",
       "    </tr>\n",
       "    <tr>\n",
       "      <th>very high</th>\n",
       "      <td>0.377182</td>\n",
       "      <td>0.048182</td>\n",
       "      <td>0.094565</td>\n",
       "      <td>0.434084</td>\n",
       "      <td>0.272708</td>\n",
       "      <td>-0.091299</td>\n",
       "      <td>-0.027834</td>\n",
       "      <td>-0.030415</td>\n",
       "      <td>0.210730</td>\n",
       "      <td>-0.428590</td>\n",
       "      <td>-0.142037</td>\n",
       "      <td>-0.312362</td>\n",
       "      <td>-0.333220</td>\n",
       "      <td>-0.328696</td>\n",
       "      <td>1.000000</td>\n",
       "      <td>0.282149</td>\n",
       "      <td>-0.282149</td>\n",
       "    </tr>\n",
       "    <tr>\n",
       "      <th>red</th>\n",
       "      <td>0.465210</td>\n",
       "      <td>0.233748</td>\n",
       "      <td>-0.201989</td>\n",
       "      <td>-0.336936</td>\n",
       "      <td>0.573684</td>\n",
       "      <td>-0.392098</td>\n",
       "      <td>-0.687193</td>\n",
       "      <td>0.347311</td>\n",
       "      <td>0.493155</td>\n",
       "      <td>-0.064638</td>\n",
       "      <td>-0.130579</td>\n",
       "      <td>0.256892</td>\n",
       "      <td>-0.341092</td>\n",
       "      <td>-0.180386</td>\n",
       "      <td>0.282149</td>\n",
       "      <td>1.000000</td>\n",
       "      <td>-1.000000</td>\n",
       "    </tr>\n",
       "    <tr>\n",
       "      <th>white</th>\n",
       "      <td>-0.465210</td>\n",
       "      <td>-0.233748</td>\n",
       "      <td>0.201989</td>\n",
       "      <td>0.336936</td>\n",
       "      <td>-0.573684</td>\n",
       "      <td>0.392098</td>\n",
       "      <td>0.687193</td>\n",
       "      <td>-0.347311</td>\n",
       "      <td>-0.493155</td>\n",
       "      <td>0.064638</td>\n",
       "      <td>0.130579</td>\n",
       "      <td>-0.256892</td>\n",
       "      <td>0.341092</td>\n",
       "      <td>0.180386</td>\n",
       "      <td>-0.282149</td>\n",
       "      <td>-1.000000</td>\n",
       "      <td>1.000000</td>\n",
       "    </tr>\n",
       "  </tbody>\n",
       "</table>\n",
       "</div>"
      ],
      "text/plain": [
       "                 FA        VA        CA        RS  chlorides       FSD  \\\n",
       "FA         1.000000 -0.235644  0.259100 -0.121842   0.318792 -0.229392   \n",
       "VA        -0.235644  1.000000 -0.167317 -0.057765   0.141951 -0.139895   \n",
       "CA         0.259100 -0.167317  1.000000  0.087391  -0.071685  0.350487   \n",
       "RS        -0.121842 -0.057765  0.087391  1.000000  -0.137453  0.229317   \n",
       "chlorides  0.318792  0.141951 -0.071685 -0.137453   1.000000 -0.290081   \n",
       "FSD       -0.229392 -0.139895  0.350487  0.229317  -0.290081  1.000000   \n",
       "TSD       -0.320969 -0.149230  0.165348  0.425759  -0.309868  0.429562   \n",
       "pH        -0.213252  0.109960 -0.274567 -0.265373   0.104672 -0.089426   \n",
       "sulphates  0.290203  0.059575  0.060450 -0.197020   0.330730 -0.084691   \n",
       "alcohol   -0.094625 -0.023071  0.149967 -0.334723  -0.288974  0.207360   \n",
       "quality   -0.062965 -0.105505  0.325197 -0.020095  -0.195744  0.593122   \n",
       "high       0.041764  0.098261 -0.183229  0.058108   0.180102 -0.125752   \n",
       "low       -0.271115 -0.081709  0.112121 -0.334502  -0.366699  0.236153   \n",
       "medium    -0.133159 -0.060212 -0.025834 -0.140405  -0.070612 -0.026680   \n",
       "very high  0.377182  0.048182  0.094565  0.434084   0.272708 -0.091299   \n",
       "red        0.465210  0.233748 -0.201989 -0.336936   0.573684 -0.392098   \n",
       "white     -0.465210 -0.233748  0.201989  0.336936  -0.573684  0.392098   \n",
       "\n",
       "                TSD        pH  sulphates   alcohol   quality      high  \\\n",
       "FA        -0.320969 -0.213252   0.290203 -0.094625 -0.062965  0.041764   \n",
       "VA        -0.149230  0.109960   0.059575 -0.023071 -0.105505  0.098261   \n",
       "CA         0.165348 -0.274567   0.060450  0.149967  0.325197 -0.183229   \n",
       "RS         0.425759 -0.265373  -0.197020 -0.334723 -0.020095  0.058108   \n",
       "chlorides -0.309868  0.104672   0.330730 -0.288974 -0.195744  0.180102   \n",
       "FSD        0.429562 -0.089426  -0.084691  0.207360  0.593122 -0.125752   \n",
       "TSD        1.000000 -0.243146  -0.286312 -0.191846 -0.012835 -0.090194   \n",
       "pH        -0.243146  1.000000   0.242536  0.090107  0.002468  0.108971   \n",
       "sulphates -0.286312  0.242536   1.000000  0.002503  0.057091  0.081933   \n",
       "alcohol   -0.191846  0.090107   0.002503  1.000000  0.397222 -0.213711   \n",
       "quality   -0.012835  0.002468   0.057091  0.397222  1.000000 -0.137526   \n",
       "high      -0.090194  0.108971   0.081933 -0.213711 -0.137526  1.000000   \n",
       "low        0.037942 -0.083889  -0.180421  0.624465  0.266732 -0.337318   \n",
       "medium     0.076692  0.007670  -0.102380 -0.005089  0.003163 -0.332738   \n",
       "very high -0.027834 -0.030415   0.210730 -0.428590 -0.142037 -0.312362   \n",
       "red       -0.687193  0.347311   0.493155 -0.064638 -0.130579  0.256892   \n",
       "white      0.687193 -0.347311  -0.493155  0.064638  0.130579 -0.256892   \n",
       "\n",
       "                low    medium  very high       red     white  \n",
       "FA        -0.271115 -0.133159   0.377182  0.465210 -0.465210  \n",
       "VA        -0.081709 -0.060212   0.048182  0.233748 -0.233748  \n",
       "CA         0.112121 -0.025834   0.094565 -0.201989  0.201989  \n",
       "RS        -0.334502 -0.140405   0.434084 -0.336936  0.336936  \n",
       "chlorides -0.366699 -0.070612   0.272708  0.573684 -0.573684  \n",
       "FSD        0.236153 -0.026680  -0.091299 -0.392098  0.392098  \n",
       "TSD        0.037942  0.076692  -0.027834 -0.687193  0.687193  \n",
       "pH        -0.083889  0.007670  -0.030415  0.347311 -0.347311  \n",
       "sulphates -0.180421 -0.102380   0.210730  0.493155 -0.493155  \n",
       "alcohol    0.624465 -0.005089  -0.428590 -0.064638  0.064638  \n",
       "quality    0.266732  0.003163  -0.142037 -0.130579  0.130579  \n",
       "high      -0.337318 -0.332738  -0.312362  0.256892 -0.256892  \n",
       "low        1.000000 -0.354957  -0.333220 -0.341092  0.341092  \n",
       "medium    -0.354957  1.000000  -0.328696 -0.180386  0.180386  \n",
       "very high -0.333220 -0.328696   1.000000  0.282149 -0.282149  \n",
       "red       -0.341092 -0.180386   0.282149  1.000000 -1.000000  \n",
       "white      0.341092  0.180386  -0.282149 -1.000000  1.000000  "
      ]
     },
     "execution_count": 1604,
     "metadata": {},
     "output_type": "execute_result"
    }
   ],
   "source": [
    "#Checking the important features with the help of a correlation matrix\n",
    "df_oh= pd.concat([df,pd.get_dummies(df['density'])],axis=1)\n",
    "df_oh= pd.concat([df_oh,pd.get_dummies(df['kind'])],axis=1)\n",
    "corr_oh = df_oh.corr()\n",
    "corr_oh\n"
   ]
  },
  {
   "cell_type": "code",
   "execution_count": 1605,
   "metadata": {},
   "outputs": [
    {
     "data": {
      "text/plain": [
       "<AxesSubplot:>"
      ]
     },
     "execution_count": 1605,
     "metadata": {},
     "output_type": "execute_result"
    },
    {
     "data": {
      "image/png": "[encoded data removed]",
      "text/plain": [
       "<Figure size 1152x720 with 2 Axes>"
      ]
     },
     "metadata": {
      "needs_background": "light"
     },
     "output_type": "display_data"
    }
   ],
   "source": [
    "mask = np.triu(np.ones_like(corr_oh, dtype=bool))\n",
    "f, ax = plt.subplots(figsize=(16, 10))\n",
    "cmap = sns.diverging_palette(200, 10, as_cmap=True)\n",
    "sns.heatmap(corr_oh, mask=mask, cmap=cmap, center=0,\n",
    "square=True, linewidths=.5)"
   ]
  },
  {
   "cell_type": "code",
   "execution_count": 1606,
   "metadata": {},
   "outputs": [],
   "source": [
    "#checking the important features with the help of a correlation matrix\n",
    "df_oh= pd.concat([df,pd.get_dummies(df['density'])],axis=1)\n",
    "df_oh= pd.concat([df_oh,pd.get_dummies(df['kind'])],axis=1)"
   ]
  },
  {
   "cell_type": "code",
   "execution_count": 1607,
   "metadata": {},
   "outputs": [],
   "source": [
    "#Remove kind from the features\n",
    "\n",
    "df.drop('kind',axis = 1,inplace=True)"
   ]
  },
  {
   "cell_type": "code",
   "execution_count": 1608,
   "metadata": {},
   "outputs": [],
   "source": [
    "#appply label encoding to density feature\n",
    "from sklearn import preprocessing\n",
    "le = preprocessing.LabelEncoder()\n",
    "df['density'] = le.fit_transform(df['density'])"
   ]
  },
  {
   "cell_type": "markdown",
   "metadata": {},
   "source": [
    "Now - normalise the features to a standard scale"
   ]
  },
  {
   "cell_type": "code",
   "execution_count": 1609,
   "metadata": {},
   "outputs": [],
   "source": [
    "from sklearn import preprocessing\n",
    "X = df.iloc[:,:-1]\n",
    "Y = df.iloc[:,-1]\n",
    "standardise_x = preprocessing.scale(X)"
   ]
  },
  {
   "cell_type": "code",
   "execution_count": 1610,
   "metadata": {},
   "outputs": [
    {
     "data": {
      "text/html": [
       "<div>\n",
       "<style scoped>\n",
       "    .dataframe tbody tr th:only-of-type {\n",
       "        vertical-align: middle;\n",
       "    }\n",
       "\n",
       "    .dataframe tbody tr th {\n",
       "        vertical-align: top;\n",
       "    }\n",
       "\n",
       "    .dataframe thead th {\n",
       "        text-align: right;\n",
       "    }\n",
       "</style>\n",
       "<table border=\"1\" class=\"dataframe\">\n",
       "  <thead>\n",
       "    <tr style=\"text-align: right;\">\n",
       "      <th></th>\n",
       "      <th>FA</th>\n",
       "      <th>VA</th>\n",
       "      <th>CA</th>\n",
       "      <th>RS</th>\n",
       "      <th>chlorides</th>\n",
       "      <th>FSD</th>\n",
       "      <th>TSD</th>\n",
       "      <th>density</th>\n",
       "      <th>pH</th>\n",
       "      <th>sulphates</th>\n",
       "      <th>alcohol</th>\n",
       "      <th>quality</th>\n",
       "    </tr>\n",
       "  </thead>\n",
       "  <tbody>\n",
       "    <tr>\n",
       "      <th>0</th>\n",
       "      <td>7.0</td>\n",
       "      <td>0.27</td>\n",
       "      <td>2.16</td>\n",
       "      <td>20.7</td>\n",
       "      <td>0.045</td>\n",
       "      <td>167.0</td>\n",
       "      <td>170.0</td>\n",
       "      <td>3</td>\n",
       "      <td>3.00</td>\n",
       "      <td>0.45</td>\n",
       "      <td>8.8</td>\n",
       "      <td>1</td>\n",
       "    </tr>\n",
       "    <tr>\n",
       "      <th>1</th>\n",
       "      <td>6.3</td>\n",
       "      <td>0.30</td>\n",
       "      <td>2.04</td>\n",
       "      <td>1.6</td>\n",
       "      <td>0.049</td>\n",
       "      <td>136.0</td>\n",
       "      <td>132.0</td>\n",
       "      <td>2</td>\n",
       "      <td>3.30</td>\n",
       "      <td>0.49</td>\n",
       "      <td>9.5</td>\n",
       "      <td>1</td>\n",
       "    </tr>\n",
       "    <tr>\n",
       "      <th>2</th>\n",
       "      <td>8.1</td>\n",
       "      <td>0.28</td>\n",
       "      <td>2.40</td>\n",
       "      <td>6.9</td>\n",
       "      <td>0.050</td>\n",
       "      <td>148.0</td>\n",
       "      <td>97.0</td>\n",
       "      <td>0</td>\n",
       "      <td>3.26</td>\n",
       "      <td>0.44</td>\n",
       "      <td>10.1</td>\n",
       "      <td>1</td>\n",
       "    </tr>\n",
       "    <tr>\n",
       "      <th>3</th>\n",
       "      <td>7.2</td>\n",
       "      <td>0.23</td>\n",
       "      <td>1.92</td>\n",
       "      <td>8.5</td>\n",
       "      <td>0.058</td>\n",
       "      <td>165.0</td>\n",
       "      <td>186.0</td>\n",
       "      <td>0</td>\n",
       "      <td>3.19</td>\n",
       "      <td>0.40</td>\n",
       "      <td>9.9</td>\n",
       "      <td>1</td>\n",
       "    </tr>\n",
       "    <tr>\n",
       "      <th>4</th>\n",
       "      <td>7.2</td>\n",
       "      <td>0.23</td>\n",
       "      <td>1.92</td>\n",
       "      <td>8.5</td>\n",
       "      <td>0.058</td>\n",
       "      <td>169.0</td>\n",
       "      <td>186.0</td>\n",
       "      <td>0</td>\n",
       "      <td>3.19</td>\n",
       "      <td>0.40</td>\n",
       "      <td>9.9</td>\n",
       "      <td>1</td>\n",
       "    </tr>\n",
       "  </tbody>\n",
       "</table>\n",
       "</div>"
      ],
      "text/plain": [
       "    FA    VA    CA    RS  chlorides    FSD    TSD  density    pH  sulphates  \\\n",
       "0  7.0  0.27  2.16  20.7      0.045  167.0  170.0        3  3.00       0.45   \n",
       "1  6.3  0.30  2.04   1.6      0.049  136.0  132.0        2  3.30       0.49   \n",
       "2  8.1  0.28  2.40   6.9      0.050  148.0   97.0        0  3.26       0.44   \n",
       "3  7.2  0.23  1.92   8.5      0.058  165.0  186.0        0  3.19       0.40   \n",
       "4  7.2  0.23  1.92   8.5      0.058  169.0  186.0        0  3.19       0.40   \n",
       "\n",
       "   alcohol  quality  \n",
       "0      8.8        1  \n",
       "1      9.5        1  \n",
       "2     10.1        1  \n",
       "3      9.9        1  \n",
       "4      9.9        1  "
      ]
     },
     "execution_count": 1610,
     "metadata": {},
     "output_type": "execute_result"
    }
   ],
   "source": [
    "df.head()"
   ]
  },
  {
   "cell_type": "markdown",
   "metadata": {},
   "source": [
    "**train our model using Gaussian Naive Bayes**"
   ]
  },
  {
   "cell_type": "code",
   "execution_count": 1611,
   "metadata": {},
   "outputs": [],
   "source": [
    "from sklearn.model_selection import train_test_split\n",
    "\n",
    "X_train,X_test,Y_train,Y_test = train_test_split(standardise_x,np.array(Y),random_state = 42)\n"
   ]
  },
  {
   "cell_type": "code",
   "execution_count": 1612,
   "metadata": {},
   "outputs": [
    {
     "name": "stdout",
     "output_type": "stream",
     "text": [
      "accuracy acheived with Naive Bayes by using all features is 81.73142467620995\n"
     ]
    }
   ],
   "source": [
    "from sklearn.metrics import accuracy_score\n",
    "from sklearn.naive_bayes import GaussianNB\n",
    "from sklearn.metrics import classification_report\n",
    "\n",
    "clf = GaussianNB().fit(X_train,Y_train)\n",
    "\n",
    "y = clf.predict(X_test)\n",
    "\n",
    "accuracy = accuracy_score(y,Y_test)\n",
    "\n",
    "print(\"accuracy acheived with Naive Bayes by using all features is\",accuracy*100)"
   ]
  },
  {
   "cell_type": "markdown",
   "metadata": {},
   "source": [
    "accuracy acheived with Naive Bayes by using all features is 81.73142467620995"
   ]
  },
  {
   "cell_type": "code",
   "execution_count": 1613,
   "metadata": {},
   "outputs": [
    {
     "name": "stdout",
     "output_type": "stream",
     "text": [
      "The classification report using 2 important features is               precision    recall  f1-score   support\n",
      "\n",
      "           0       0.74      0.75      0.74       524\n",
      "           1       0.86      0.86      0.86       943\n",
      "\n",
      "    accuracy                           0.82      1467\n",
      "   macro avg       0.80      0.80      0.80      1467\n",
      "weighted avg       0.82      0.82      0.82      1467\n",
      "\n"
     ]
    }
   ],
   "source": [
    "print(\"The classification report using 2 important features is\",classification_report(Y_test,y)) "
   ]
  },
  {
   "cell_type": "markdown",
   "metadata": {},
   "source": [
    "**Extracting only 2 important features for our model using Permutation Importance**"
   ]
  },
  {
   "cell_type": "code",
   "execution_count": 1614,
   "metadata": {},
   "outputs": [
    {
     "name": "stdout",
     "output_type": "stream",
     "text": [
      "[-9.54328562e-04  1.36332652e-03  1.93592365e-02 -1.63599182e-03\n",
      "  4.36264485e-03  1.52419905e-01 -1.63599182e-03 -2.04498978e-03\n",
      "  1.36332652e-04  4.08997955e-03  3.69461486e-02]\n"
     ]
    }
   ],
   "source": [
    "from sklearn.inspection import permutation_importance\n",
    "importance = permutation_importance(clf, X_test, Y_test)\n",
    "a = importance.importances_mean\n",
    "b = a[:]\n",
    "print(a)"
   ]
  },
  {
   "cell_type": "markdown",
   "metadata": {},
   "source": [
    "The 2 important features are CA and Alcohol"
   ]
  },
  {
   "cell_type": "code",
   "execution_count": 1615,
   "metadata": {},
   "outputs": [
    {
     "data": {
      "text/plain": [
       "Text(0.5, 1.0, 'Scatter plot for citric acid vs Alcohol')"
      ]
     },
     "execution_count": 1615,
     "metadata": {},
     "output_type": "execute_result"
    },
    {
     "data": {
      "image/png": "[encoded data removed]",
      "text/plain": [
       "<Figure size 432x288 with 1 Axes>"
      ]
     },
     "metadata": {
      "needs_background": "light"
     },
     "output_type": "display_data"
    }
   ],
   "source": [
    "plt.scatter(df['CA'],df['alcohol'],color = ['green'])\n",
    "plt.xlabel('CA',fontsize = 10)\n",
    "plt.ylabel('alcohol',fontsize = 12)\n",
    "plt.title('Scatter plot for citric acid vs Alcohol')"
   ]
  },
  {
   "cell_type": "code",
   "execution_count": 1616,
   "metadata": {},
   "outputs": [
    {
     "name": "stdout",
     "output_type": "stream",
     "text": [
      "accuracy acheived with Naive Bayes by using alcohol and Citiric Acid  is 71.64280845262441\n",
      "The classification report using 2 important features is               precision    recall  f1-score   support\n",
      "\n",
      "           0       0.60      0.65      0.62       524\n",
      "           1       0.79      0.76      0.77       943\n",
      "\n",
      "    accuracy                           0.72      1467\n",
      "   macro avg       0.69      0.70      0.70      1467\n",
      "weighted avg       0.72      0.72      0.72      1467\n",
      "\n"
     ]
    }
   ],
   "source": [
    "from sklearn.metrics import accuracy_score\n",
    "from sklearn.naive_bayes import GaussianNB\n",
    "from sklearn.metrics import classification_report\n",
    "from sklearn import preprocessing\n",
    "from sklearn.model_selection import train_test_split\n",
    "\n",
    "\n",
    "df1 = pd.DataFrame(df,columns= ['CA','alcohol','quality'])\n",
    "\n",
    "\n",
    "X = df1.iloc[:,:-1]\n",
    "\n",
    "Y = df1.iloc[:,-1]\n",
    "\n",
    "X_train,X_test,Y_train,Y_test = train_test_split(X,Y,random_state = 42)\n",
    "\n",
    "\n",
    "clf = GaussianNB().fit(X_train,Y_train)\n",
    "\n",
    "y = clf.predict(X_test)\n",
    "\n",
    "accuracy = accuracy_score(y,Y_test)\n",
    "\n",
    "print(\"accuracy acheived with Naive Bayes by using alcohol and Citiric Acid  is\",accuracy*100)\n",
    "\n",
    "print(\"The classification report using 2 important features is\",classification_report(Y_test,y)) \n"
   ]
  },
  {
   "cell_type": "markdown",
   "metadata": {},
   "source": [
    "In this case all the features combined together gives better results than the 2 important features"
   ]
  },
  {
   "cell_type": "markdown",
   "metadata": {},
   "source": [
    "**Decision Tree Classifier Baseline Model**"
   ]
  },
  {
   "cell_type": "code",
   "execution_count": 1617,
   "metadata": {},
   "outputs": [],
   "source": [
    "df_random.dropna(inplace=True)"
   ]
  },
  {
   "cell_type": "markdown",
   "metadata": {},
   "source": [
    "Label Encode the Categorical Variables"
   ]
  },
  {
   "cell_type": "code",
   "execution_count": 1618,
   "metadata": {},
   "outputs": [],
   "source": [
    "from sklearn import preprocessing\n",
    "le = preprocessing.LabelEncoder()\n",
    "df_random['density'] = le.fit_transform(df_random['density'])\n",
    "df_random['kind'] = le.fit_transform(df_random['kind'])"
   ]
  },
  {
   "cell_type": "code",
   "execution_count": 1619,
   "metadata": {},
   "outputs": [
    {
     "data": {
      "text/html": [
       "<div>\n",
       "<style scoped>\n",
       "    .dataframe tbody tr th:only-of-type {\n",
       "        vertical-align: middle;\n",
       "    }\n",
       "\n",
       "    .dataframe tbody tr th {\n",
       "        vertical-align: top;\n",
       "    }\n",
       "\n",
       "    .dataframe thead th {\n",
       "        text-align: right;\n",
       "    }\n",
       "</style>\n",
       "<table border=\"1\" class=\"dataframe\">\n",
       "  <thead>\n",
       "    <tr style=\"text-align: right;\">\n",
       "      <th></th>\n",
       "      <th>fixed acidity</th>\n",
       "      <th>volatile acidity</th>\n",
       "      <th>citric acid</th>\n",
       "      <th>residual sugar</th>\n",
       "      <th>chlorides</th>\n",
       "      <th>free sulfur dioxide</th>\n",
       "      <th>total sulfur dioxide</th>\n",
       "      <th>density</th>\n",
       "      <th>pH</th>\n",
       "      <th>sulphates</th>\n",
       "      <th>alcohol</th>\n",
       "      <th>quality</th>\n",
       "      <th>kind</th>\n",
       "    </tr>\n",
       "  </thead>\n",
       "  <tbody>\n",
       "    <tr>\n",
       "      <th>0</th>\n",
       "      <td>7.0</td>\n",
       "      <td>0.27</td>\n",
       "      <td>2.16</td>\n",
       "      <td>20.7</td>\n",
       "      <td>0.045</td>\n",
       "      <td>167.0</td>\n",
       "      <td>170.0</td>\n",
       "      <td>3</td>\n",
       "      <td>3.00</td>\n",
       "      <td>0.45</td>\n",
       "      <td>8.8</td>\n",
       "      <td>6</td>\n",
       "      <td>1</td>\n",
       "    </tr>\n",
       "    <tr>\n",
       "      <th>1</th>\n",
       "      <td>6.3</td>\n",
       "      <td>0.30</td>\n",
       "      <td>2.04</td>\n",
       "      <td>1.6</td>\n",
       "      <td>0.049</td>\n",
       "      <td>136.0</td>\n",
       "      <td>132.0</td>\n",
       "      <td>2</td>\n",
       "      <td>3.30</td>\n",
       "      <td>0.49</td>\n",
       "      <td>9.5</td>\n",
       "      <td>6</td>\n",
       "      <td>1</td>\n",
       "    </tr>\n",
       "    <tr>\n",
       "      <th>2</th>\n",
       "      <td>8.1</td>\n",
       "      <td>0.28</td>\n",
       "      <td>2.40</td>\n",
       "      <td>6.9</td>\n",
       "      <td>0.050</td>\n",
       "      <td>148.0</td>\n",
       "      <td>97.0</td>\n",
       "      <td>0</td>\n",
       "      <td>3.26</td>\n",
       "      <td>0.44</td>\n",
       "      <td>10.1</td>\n",
       "      <td>6</td>\n",
       "      <td>1</td>\n",
       "    </tr>\n",
       "    <tr>\n",
       "      <th>3</th>\n",
       "      <td>7.2</td>\n",
       "      <td>0.23</td>\n",
       "      <td>1.92</td>\n",
       "      <td>8.5</td>\n",
       "      <td>0.058</td>\n",
       "      <td>165.0</td>\n",
       "      <td>186.0</td>\n",
       "      <td>0</td>\n",
       "      <td>3.19</td>\n",
       "      <td>0.40</td>\n",
       "      <td>9.9</td>\n",
       "      <td>6</td>\n",
       "      <td>1</td>\n",
       "    </tr>\n",
       "    <tr>\n",
       "      <th>4</th>\n",
       "      <td>7.2</td>\n",
       "      <td>0.23</td>\n",
       "      <td>1.92</td>\n",
       "      <td>8.5</td>\n",
       "      <td>0.058</td>\n",
       "      <td>169.0</td>\n",
       "      <td>186.0</td>\n",
       "      <td>0</td>\n",
       "      <td>3.19</td>\n",
       "      <td>0.40</td>\n",
       "      <td>9.9</td>\n",
       "      <td>6</td>\n",
       "      <td>1</td>\n",
       "    </tr>\n",
       "  </tbody>\n",
       "</table>\n",
       "</div>"
      ],
      "text/plain": [
       "   fixed acidity  volatile acidity  citric acid  residual sugar  chlorides  \\\n",
       "0            7.0              0.27         2.16            20.7      0.045   \n",
       "1            6.3              0.30         2.04             1.6      0.049   \n",
       "2            8.1              0.28         2.40             6.9      0.050   \n",
       "3            7.2              0.23         1.92             8.5      0.058   \n",
       "4            7.2              0.23         1.92             8.5      0.058   \n",
       "\n",
       "   free sulfur dioxide  total sulfur dioxide  density    pH  sulphates  \\\n",
       "0                167.0                 170.0        3  3.00       0.45   \n",
       "1                136.0                 132.0        2  3.30       0.49   \n",
       "2                148.0                  97.0        0  3.26       0.44   \n",
       "3                165.0                 186.0        0  3.19       0.40   \n",
       "4                169.0                 186.0        0  3.19       0.40   \n",
       "\n",
       "   alcohol  quality  kind  \n",
       "0      8.8        6     1  \n",
       "1      9.5        6     1  \n",
       "2     10.1        6     1  \n",
       "3      9.9        6     1  \n",
       "4      9.9        6     1  "
      ]
     },
     "execution_count": 1619,
     "metadata": {},
     "output_type": "execute_result"
    }
   ],
   "source": [
    "df_random.head()"
   ]
  },
  {
   "cell_type": "code",
   "execution_count": 1620,
   "metadata": {},
   "outputs": [],
   "source": [
    "df_random = df_random[['fixed acidity', 'volatile acidity', 'citric acid', 'residual sugar','chlorides','free sulfur dioxide','total sulfur dioxide','pH','sulphates','alcohol','kind','quality']]"
   ]
  },
  {
   "cell_type": "code",
   "execution_count": 1621,
   "metadata": {},
   "outputs": [],
   "source": [
    "df_random['quality'] = df_random['quality'].apply(classify)"
   ]
  },
  {
   "cell_type": "code",
   "execution_count": 1622,
   "metadata": {},
   "outputs": [
    {
     "data": {
      "text/html": [
       "<div>\n",
       "<style scoped>\n",
       "    .dataframe tbody tr th:only-of-type {\n",
       "        vertical-align: middle;\n",
       "    }\n",
       "\n",
       "    .dataframe tbody tr th {\n",
       "        vertical-align: top;\n",
       "    }\n",
       "\n",
       "    .dataframe thead th {\n",
       "        text-align: right;\n",
       "    }\n",
       "</style>\n",
       "<table border=\"1\" class=\"dataframe\">\n",
       "  <thead>\n",
       "    <tr style=\"text-align: right;\">\n",
       "      <th></th>\n",
       "      <th>fixed acidity</th>\n",
       "      <th>volatile acidity</th>\n",
       "      <th>citric acid</th>\n",
       "      <th>residual sugar</th>\n",
       "      <th>chlorides</th>\n",
       "      <th>free sulfur dioxide</th>\n",
       "      <th>total sulfur dioxide</th>\n",
       "      <th>pH</th>\n",
       "      <th>sulphates</th>\n",
       "      <th>alcohol</th>\n",
       "      <th>kind</th>\n",
       "      <th>quality</th>\n",
       "    </tr>\n",
       "  </thead>\n",
       "  <tbody>\n",
       "    <tr>\n",
       "      <th>0</th>\n",
       "      <td>7.0</td>\n",
       "      <td>0.27</td>\n",
       "      <td>2.16</td>\n",
       "      <td>20.7</td>\n",
       "      <td>0.045</td>\n",
       "      <td>167.0</td>\n",
       "      <td>170.0</td>\n",
       "      <td>3.00</td>\n",
       "      <td>0.45</td>\n",
       "      <td>8.8</td>\n",
       "      <td>1</td>\n",
       "      <td>1</td>\n",
       "    </tr>\n",
       "    <tr>\n",
       "      <th>1</th>\n",
       "      <td>6.3</td>\n",
       "      <td>0.30</td>\n",
       "      <td>2.04</td>\n",
       "      <td>1.6</td>\n",
       "      <td>0.049</td>\n",
       "      <td>136.0</td>\n",
       "      <td>132.0</td>\n",
       "      <td>3.30</td>\n",
       "      <td>0.49</td>\n",
       "      <td>9.5</td>\n",
       "      <td>1</td>\n",
       "      <td>1</td>\n",
       "    </tr>\n",
       "    <tr>\n",
       "      <th>2</th>\n",
       "      <td>8.1</td>\n",
       "      <td>0.28</td>\n",
       "      <td>2.40</td>\n",
       "      <td>6.9</td>\n",
       "      <td>0.050</td>\n",
       "      <td>148.0</td>\n",
       "      <td>97.0</td>\n",
       "      <td>3.26</td>\n",
       "      <td>0.44</td>\n",
       "      <td>10.1</td>\n",
       "      <td>1</td>\n",
       "      <td>1</td>\n",
       "    </tr>\n",
       "    <tr>\n",
       "      <th>3</th>\n",
       "      <td>7.2</td>\n",
       "      <td>0.23</td>\n",
       "      <td>1.92</td>\n",
       "      <td>8.5</td>\n",
       "      <td>0.058</td>\n",
       "      <td>165.0</td>\n",
       "      <td>186.0</td>\n",
       "      <td>3.19</td>\n",
       "      <td>0.40</td>\n",
       "      <td>9.9</td>\n",
       "      <td>1</td>\n",
       "      <td>1</td>\n",
       "    </tr>\n",
       "    <tr>\n",
       "      <th>4</th>\n",
       "      <td>7.2</td>\n",
       "      <td>0.23</td>\n",
       "      <td>1.92</td>\n",
       "      <td>8.5</td>\n",
       "      <td>0.058</td>\n",
       "      <td>169.0</td>\n",
       "      <td>186.0</td>\n",
       "      <td>3.19</td>\n",
       "      <td>0.40</td>\n",
       "      <td>9.9</td>\n",
       "      <td>1</td>\n",
       "      <td>1</td>\n",
       "    </tr>\n",
       "  </tbody>\n",
       "</table>\n",
       "</div>"
      ],
      "text/plain": [
       "   fixed acidity  volatile acidity  citric acid  residual sugar  chlorides  \\\n",
       "0            7.0              0.27         2.16            20.7      0.045   \n",
       "1            6.3              0.30         2.04             1.6      0.049   \n",
       "2            8.1              0.28         2.40             6.9      0.050   \n",
       "3            7.2              0.23         1.92             8.5      0.058   \n",
       "4            7.2              0.23         1.92             8.5      0.058   \n",
       "\n",
       "   free sulfur dioxide  total sulfur dioxide    pH  sulphates  alcohol  kind  \\\n",
       "0                167.0                 170.0  3.00       0.45      8.8     1   \n",
       "1                136.0                 132.0  3.30       0.49      9.5     1   \n",
       "2                148.0                  97.0  3.26       0.44     10.1     1   \n",
       "3                165.0                 186.0  3.19       0.40      9.9     1   \n",
       "4                169.0                 186.0  3.19       0.40      9.9     1   \n",
       "\n",
       "   quality  \n",
       "0        1  \n",
       "1        1  \n",
       "2        1  \n",
       "3        1  \n",
       "4        1  "
      ]
     },
     "execution_count": 1622,
     "metadata": {},
     "output_type": "execute_result"
    }
   ],
   "source": [
    "df_random.head()"
   ]
  },
  {
   "cell_type": "code",
   "execution_count": 1623,
   "metadata": {},
   "outputs": [],
   "source": [
    "from sklearn.model_selection import train_test_split\n",
    "\n",
    "X_train_base,X_test_base,Y_train_base,Y_test_base = train_test_split(df_random.iloc[:,:-1],df_random.iloc[:,-1],random_state = 42)"
   ]
  },
  {
   "cell_type": "code",
   "execution_count": 1624,
   "metadata": {},
   "outputs": [
    {
     "name": "stdout",
     "output_type": "stream",
     "text": [
      "accuracy obtained using Decision Tree baseline model is 87.31769181991123\n"
     ]
    }
   ],
   "source": [
    "from sklearn.tree import DecisionTreeClassifier\n",
    "\n",
    "clf = DecisionTreeClassifier()\n",
    "clf.fit(X_train_base,Y_train_base)\n",
    "\n",
    "y_pred = clf.predict(X_test_base)\n",
    "\n",
    "accuracy_1 =  accuracy_score(y_pred,Y_test_base)\n",
    "\n",
    "print(\"accuracy obtained using Decision Tree baseline model is\",accuracy_1 * 100)\n"
   ]
  },
  {
   "cell_type": "code",
   "execution_count": 1625,
   "metadata": {},
   "outputs": [
    {
     "name": "stdout",
     "output_type": "stream",
     "text": [
      "The classification report of Baseline Decision Tree Algorithm is\n",
      "              precision    recall  f1-score   support\n",
      "\n",
      "           0       0.83      0.82      0.82       570\n",
      "           1       0.90      0.90      0.90      1007\n",
      "\n",
      "    accuracy                           0.87      1577\n",
      "   macro avg       0.86      0.86      0.86      1577\n",
      "weighted avg       0.87      0.87      0.87      1577\n",
      "\n"
     ]
    }
   ],
   "source": [
    "print(\"The classification report of Baseline Decision Tree Algorithm is\")\n",
    "print(classification_report(Y_test_base,y_pred))"
   ]
  },
  {
   "cell_type": "markdown",
   "metadata": {},
   "source": [
    "I achieved an Accuracy of around 87 percent with Decision Tree Algorithm baseline model. "
   ]
  },
  {
   "cell_type": "markdown",
   "metadata": {},
   "source": [
    "**Decision Tree Model with the modified data set**"
   ]
  },
  {
   "cell_type": "code",
   "execution_count": 1626,
   "metadata": {},
   "outputs": [
    {
     "name": "stdout",
     "output_type": "stream",
     "text": [
      "accuracy obtained using Decision Tree Algorithm using modified data set  is 86.09406952965234\n"
     ]
    }
   ],
   "source": [
    "X = df.iloc[:,:-1]\n",
    "Y = df.iloc[:,-1]\n",
    "standardise_x = preprocessing.scale(X)\n",
    "X_train,X_test,Y_train,Y_test = train_test_split(standardise_x,Y,random_state = 42)\n",
    "clf.fit(X_train,Y_train)\n",
    "predicted_values = clf.predict(X_test)\n",
    "accuracy_1 =  accuracy_score(predicted_values,Y_test)\n",
    "\n",
    "print(\"accuracy obtained using Decision Tree Algorithm using modified data set  is\",accuracy_1 * 100)"
   ]
  },
  {
   "cell_type": "code",
   "execution_count": 1627,
   "metadata": {},
   "outputs": [
    {
     "name": "stdout",
     "output_type": "stream",
     "text": [
      "The classification report of Decision tree Algorithm using modified data set  is\n",
      "              precision    recall  f1-score   support\n",
      "\n",
      "           0       0.80      0.81      0.81       524\n",
      "           1       0.89      0.89      0.89       943\n",
      "\n",
      "    accuracy                           0.86      1467\n",
      "   macro avg       0.85      0.85      0.85      1467\n",
      "weighted avg       0.86      0.86      0.86      1467\n",
      "\n"
     ]
    }
   ],
   "source": [
    "print(\"The classification report of Decision tree Algorithm using modified data set  is\")\n",
    "print(classification_report(Y_test,predicted_values))"
   ]
  },
  {
   "cell_type": "code",
   "execution_count": 1628,
   "metadata": {},
   "outputs": [
    {
     "name": "stdout",
     "output_type": "stream",
     "text": [
      "Feature: 0, Score: 0.03245\n",
      "Feature: 1, Score: 0.04764\n",
      "Feature: 2, Score: 0.05956\n",
      "Feature: 3, Score: 0.02868\n",
      "Feature: 4, Score: 0.03266\n",
      "Feature: 5, Score: 0.46653\n",
      "Feature: 6, Score: 0.13253\n",
      "Feature: 7, Score: 0.00509\n",
      "Feature: 8, Score: 0.04137\n",
      "Feature: 9, Score: 0.02619\n",
      "Feature: 10, Score: 0.12730\n"
     ]
    },
    {
     "data": {
      "image/png": "[encoded data removed]",
      "text/plain": [
       "<Figure size 432x288 with 1 Axes>"
      ]
     },
     "metadata": {
      "needs_background": "light"
     },
     "output_type": "display_data"
    }
   ],
   "source": [
    "#plot the feature importance graph \n",
    "\n",
    "importance = clf.feature_importances_\n",
    "# summarize feature importance\n",
    "for i,v in enumerate(importance):\n",
    "    print('Feature: %0d, Score: %.5f' % (i,v))\n",
    "# plot feature importance\n",
    "plt.bar([x for x in range(len(importance))], importance,color = ['orange'])\n",
    "plt.show()"
   ]
  }
 ],
 "metadata": {
  "kernelspec": {
   "display_name": "Python 3",
   "language": "python",
   "name": "python3"
  },
  "language_info": {
   "codemirror_mode": {
    "name": "ipython",
    "version": 3
   },
   "file_extension": ".py",
   "mimetype": "text/x-python",
   "name": "python",
   "nbconvert_exporter": "python",
   "pygments_lexer": "ipython3",
   "version": "3.8.3"
  }
 },
 "nbformat": 4,
 "nbformat_minor": 4
}
